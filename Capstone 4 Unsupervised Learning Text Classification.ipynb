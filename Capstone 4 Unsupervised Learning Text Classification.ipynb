{
 "cells": [
  {
   "cell_type": "code",
   "execution_count": 80,
   "metadata": {},
   "outputs": [],
   "source": [
    "%matplotlib inline\n",
    "import wikiquote\n",
    "import numpy as np\n",
    "import pandas as pd\n",
    "import scipy\n",
    "import sklearn\n",
    "import spacy\n",
    "import matplotlib.pyplot as plt\n",
    "import seaborn as sns\n",
    "import re\n",
    "from sklearn.model_selection import train_test_split\n",
    "from collections import Counter\n",
    "from nltk.corpus import stopwords\n",
    "from sklearn import ensemble\n",
    "from sklearn.linear_model import LogisticRegression\n",
    "from sklearn.model_selection import cross_val_score\n",
    "from sklearn.feature_extraction.text import TfidfVectorizer\n",
    "from sklearn.feature_extraction.text import CountVectorizer\n",
    "from sklearn.model_selection import GridSearchCV\n",
    "from sklearn.metrics import classification_report\n",
    "from sklearn.metrics import adjusted_rand_score\n",
    "from sklearn.metrics import silhouette_score\n",
    "from sklearn.metrics import recall_score\n",
    "from sklearn.pipeline import make_pipeline\n",
    "from sklearn.preprocessing import Normalizer\n",
    "\n",
    "from scipy.spatial.distance import cdist\n",
    "from sklearn.preprocessing import normalize\n",
    "from sklearn.decomposition import PCA\n",
    "from sklearn.cluster import MeanShift, estimate_bandwidth\n",
    "from sklearn.cluster import KMeans\n",
    "from sklearn.cluster import SpectralClustering\n",
    "from sklearn.cluster import AffinityPropagation\n",
    "from itertools import cycle\n",
    "\n",
    "import warnings\n",
    "warnings.filterwarnings(\"ignore\")"
   ]
  },
  {
   "cell_type": "markdown",
   "metadata": {},
   "source": [
    "# Thinkful Data Science: Unsupervised Learning Capstone \n",
    "\n",
    "### Corey Coole\n",
    "\n",
    "### August 18, 2019"
   ]
  },
  {
   "cell_type": "markdown",
   "metadata": {},
   "source": [
    "#### - Objective: \n",
    "    \n",
    "        Pick a set of texts, process the texts and apply a series of unsupervised clustering methods to group the \n",
    "        texts. \n",
    "        Now analyze which clustering method groups the texts most consistely with respect to the person of \n",
    "        interest. \n",
    "        Apply supervised and unsupervised permutations of feature selection and generation to build a model \n",
    "        that will classify the texts by person of interest. \n",
    "        Lastly, evaluate this model against a holdout group of 25%, analyze the consistency of its prediction and \n",
    "        explain any notable divergencies.  "
   ]
  },
  {
   "cell_type": "markdown",
   "metadata": {},
   "source": [
    "#### - Data Source: Wikiquote.org\n",
    "#### - Pull 700 quotes from 10 wikiquote archives (70 per).\n",
    "#### - Persons of interest: \n",
    "               \n",
    "               Plato, Socrates, Sigmund Frued, Friedrich Nietzsche, René Descartes, Immanuel Kant,\n",
    "               David Hume, Bertrand Russell, John Locke, Noam Chomsky\n",
    "\n",
    "        "
   ]
  },
  {
   "cell_type": "markdown",
   "metadata": {},
   "source": [
    "# Text Processing "
   ]
  },
  {
   "cell_type": "markdown",
   "metadata": {},
   "source": [
    "- Create a data frame containing cleaned texts from each person of interest. "
   ]
  },
  {
   "cell_type": "code",
   "execution_count": 81,
   "metadata": {},
   "outputs": [],
   "source": [
    "from nltk.stem import WordNetLemmatizer\n",
    "from nltk.tokenize import word_tokenize\n",
    "\n",
    "lemmatizer = WordNetLemmatizer()\n",
    "\n",
    "def get_quotes(author): # a function to grab and clean quotes from wikiquote webarchive\n",
    "    quotes = wikiquote.quotes(author, max_quotes=70)\n",
    "\n",
    "    sent_list_clean = []\n",
    "\n",
    "    # Iterate through sentence list, removing punctuation, numeric values\n",
    "    for quote in quotes:\n",
    "        quote = re.sub(\"[^a-zA-Z]\", ' ', quote) #remove numeric and punctuation\n",
    "                                                #replace with blank\n",
    "        sent_list_clean.append(quote)\n",
    "\n",
    "    # Create list to hold lemmatized sentences\n",
    "    lemma_sents = []\n",
    "\n",
    "    # Tokenize, get lemmas, and rejoin back to sentence level doc\n",
    "    for sent in sent_list_clean:\n",
    "        words = word_tokenize(sent)                                 \n",
    "        word_lemma = [lemmatizer.lemmatize(word) for word in words] \n",
    "        sent_lemma = ' '.join(word_lemma)                           \n",
    "        lemma_sents.append(sent_lemma)\n",
    "\n",
    "    res = pd.DataFrame(lemma_sents,columns = ['Quote'])\n",
    "    res = res.assign(Author=author)\n",
    "    return res"
   ]
  },
  {
   "cell_type": "code",
   "execution_count": 82,
   "metadata": {},
   "outputs": [],
   "source": [
    "df_plato = get_quotes('Plato') # process quotes from 10 individuals \n",
    "df_freud = get_quotes('Sigmund Freud')\n",
    "df_socrates = get_quotes('Socrates')\n",
    "df_nietzsche = get_quotes('Friedrich Nietzsche')\n",
    "df_descartes = get_quotes('René Descartes')\n",
    "df_kant = get_quotes('Immanuel Kant')\n",
    "df_hume = get_quotes('David Hume')\n",
    "df_russell = get_quotes('Bertrand Russell')\n",
    "df_locke = get_quotes('John Locke')\n",
    "df_chomsky = get_quotes('Noam Chomsky')"
   ]
  },
  {
   "cell_type": "code",
   "execution_count": 4,
   "metadata": {},
   "outputs": [
    {
     "data": {
      "text/html": [
       "<div>\n",
       "<style scoped>\n",
       "    .dataframe tbody tr th:only-of-type {\n",
       "        vertical-align: middle;\n",
       "    }\n",
       "\n",
       "    .dataframe tbody tr th {\n",
       "        vertical-align: top;\n",
       "    }\n",
       "\n",
       "    .dataframe thead th {\n",
       "        text-align: right;\n",
       "    }\n",
       "</style>\n",
       "<table border=\"1\" class=\"dataframe\">\n",
       "  <thead>\n",
       "    <tr style=\"text-align: right;\">\n",
       "      <th></th>\n",
       "      <th>Quote</th>\n",
       "      <th>Author</th>\n",
       "    </tr>\n",
       "  </thead>\n",
       "  <tbody>\n",
       "    <tr>\n",
       "      <th>0</th>\n",
       "      <td>Let every man remind their descendant that the...</td>\n",
       "      <td>Plato</td>\n",
       "    </tr>\n",
       "    <tr>\n",
       "      <th>1</th>\n",
       "      <td>Rhetoric it seems is a producer of persuasion ...</td>\n",
       "      <td>Plato</td>\n",
       "    </tr>\n",
       "    <tr>\n",
       "      <th>2</th>\n",
       "      <td>Then the case is the same in all the other art...</td>\n",
       "      <td>Plato</td>\n",
       "    </tr>\n",
       "    <tr>\n",
       "      <th>3</th>\n",
       "      <td>The orator and the despot have the least power...</td>\n",
       "      <td>Plato</td>\n",
       "    </tr>\n",
       "    <tr>\n",
       "      <th>4</th>\n",
       "      <td>It would be better for me that multitude of me...</td>\n",
       "      <td>Plato</td>\n",
       "    </tr>\n",
       "  </tbody>\n",
       "</table>\n",
       "</div>"
      ],
      "text/plain": [
       "                                               Quote Author\n",
       "0  Let every man remind their descendant that the...  Plato\n",
       "1  Rhetoric it seems is a producer of persuasion ...  Plato\n",
       "2  Then the case is the same in all the other art...  Plato\n",
       "3  The orator and the despot have the least power...  Plato\n",
       "4  It would be better for me that multitude of me...  Plato"
      ]
     },
     "execution_count": 4,
     "metadata": {},
     "output_type": "execute_result"
    }
   ],
   "source": [
    "df_plato.head()"
   ]
  },
  {
   "cell_type": "code",
   "execution_count": 5,
   "metadata": {},
   "outputs": [
    {
     "data": {
      "text/html": [
       "<div>\n",
       "<style scoped>\n",
       "    .dataframe tbody tr th:only-of-type {\n",
       "        vertical-align: middle;\n",
       "    }\n",
       "\n",
       "    .dataframe tbody tr th {\n",
       "        vertical-align: top;\n",
       "    }\n",
       "\n",
       "    .dataframe thead th {\n",
       "        text-align: right;\n",
       "    }\n",
       "</style>\n",
       "<table border=\"1\" class=\"dataframe\">\n",
       "  <thead>\n",
       "    <tr style=\"text-align: right;\">\n",
       "      <th></th>\n",
       "      <th>Quote</th>\n",
       "      <th>Author</th>\n",
       "    </tr>\n",
       "  </thead>\n",
       "  <tbody>\n",
       "    <tr>\n",
       "      <th>0</th>\n",
       "      <td>Let every man remind their descendant that the...</td>\n",
       "      <td>Plato</td>\n",
       "    </tr>\n",
       "    <tr>\n",
       "      <th>1</th>\n",
       "      <td>Rhetoric it seems is a producer of persuasion ...</td>\n",
       "      <td>Plato</td>\n",
       "    </tr>\n",
       "    <tr>\n",
       "      <th>2</th>\n",
       "      <td>Then the case is the same in all the other art...</td>\n",
       "      <td>Plato</td>\n",
       "    </tr>\n",
       "    <tr>\n",
       "      <th>3</th>\n",
       "      <td>The orator and the despot have the least power...</td>\n",
       "      <td>Plato</td>\n",
       "    </tr>\n",
       "    <tr>\n",
       "      <th>4</th>\n",
       "      <td>It would be better for me that multitude of me...</td>\n",
       "      <td>Plato</td>\n",
       "    </tr>\n",
       "  </tbody>\n",
       "</table>\n",
       "</div>"
      ],
      "text/plain": [
       "                                               Quote Author\n",
       "0  Let every man remind their descendant that the...  Plato\n",
       "1  Rhetoric it seems is a producer of persuasion ...  Plato\n",
       "2  Then the case is the same in all the other art...  Plato\n",
       "3  The orator and the despot have the least power...  Plato\n",
       "4  It would be better for me that multitude of me...  Plato"
      ]
     },
     "execution_count": 5,
     "metadata": {},
     "output_type": "execute_result"
    }
   ],
   "source": [
    "df_authors = pd.DataFrame() # combine all persons of interest into one accessible dataframe\n",
    "\n",
    "df_authors = df_authors.append([df_plato, df_freud, df_socrates, df_nietzsche, df_descartes,\n",
    "                               df_kant, df_hume, df_russell, df_locke, df_chomsky], ignore_index = True)\n",
    "df_authors.head()"
   ]
  },
  {
   "cell_type": "code",
   "execution_count": 6,
   "metadata": {},
   "outputs": [],
   "source": [
    "# Defining X and Y variables\n",
    "X = df_authors.Quote\n",
    "Y = df_authors.Author"
   ]
  },
  {
   "cell_type": "markdown",
   "metadata": {},
   "source": [
    "# Feature Generation: Tf-idf Vectorization"
   ]
  },
  {
   "cell_type": "markdown",
   "metadata": {},
   "source": [
    "- Term frequency-inverse document frequency (TF-IDF): \n",
    "    \n",
    "    A numerical statistic that is intended to reflect how important a word is to a document in a collection or \n",
    "    corpus. It is often used as a weighting factor in searches of information retrieval, text mining, and user \n",
    "    modeling. The tf–idf value increases proportionally to the number of times a word appears in the document and is \n",
    "    offset by the number of documents in the corpus that contain the word, which helps to adjust for the fact that \n",
    "    some words appear more frequently in general. "
   ]
  },
  {
   "cell_type": "code",
   "execution_count": 119,
   "metadata": {
    "scrolled": true
   },
   "outputs": [
    {
     "name": "stdout",
     "output_type": "stream",
     "text": [
      "Number of features: 2689\n"
     ]
    }
   ],
   "source": [
    "#Calculate our TF-IDF vector matrix using TfidfVectorizer. \n",
    "#This allows us to clean up more our sentences removing stop words and applying lowercase to all text.\n",
    "\n",
    "vectorizer = TfidfVectorizer(stop_words='english', # Remove stop words\n",
    "                             lowercase=True,       # Convert all to lowercase\n",
    "                             min_df=2,             # Use words that appear at least twice per sentence\n",
    "                             max_df=0.5,           # Drop words that occur in more than half of the sentences\n",
    "                             use_idf=True,\n",
    "                             smooth_idf=True,\n",
    "                             norm='l2'\n",
    "                             )\n",
    "#Applying the vectorizer\n",
    "X_tfidf=vectorizer.fit_transform(X)\n",
    "print(\"Number of features: %d\" % X_tfidf.get_shape()[1])\n",
    "\n",
    "#splitting into training and test sets. Reserving 25% of my corpus as a test set.\n",
    "X_train_tfidf, X_test_tfidf, Y_train_tfidf, Y_test_tfidf = train_test_split(X_tfidf, \n",
    "                                                                Y,\n",
    "                                                                test_size=0.25,\n",
    "                                                                random_state=0)"
   ]
  },
  {
   "cell_type": "code",
   "execution_count": 129,
   "metadata": {},
   "outputs": [
    {
     "data": {
      "text/plain": [
       "306      René Descartes\n",
       "604          John Locke\n",
       "40                Plato\n",
       "493    Bertrand Russell\n",
       "14                Plato\n",
       "Name: Author, dtype: object"
      ]
     },
     "execution_count": 129,
     "metadata": {},
     "output_type": "execute_result"
    }
   ],
   "source": [
    "Y_test_tfidf.head()"
   ]
  },
  {
   "cell_type": "markdown",
   "metadata": {},
   "source": [
    "## Dimensionality Reduction"
   ]
  },
  {
   "cell_type": "markdown",
   "metadata": {},
   "source": [
    "-  Singular Value Decomposition:\n",
    "    \n",
    "    A matrix decomposition method for reducing a matrix to its constituent parts in order to make certain subsequent \n",
    "    matrix calculations simpler.\n",
    "    This transformer performs linear dimensionality reduction by means of truncated singular value decomposition \n",
    "    (SVD). Contrary to PCA, this estimator does not center the data before computing the singular value \n",
    "    decomposition. This means it can work with scipy.sparse matrices efficiently.\n",
    "    "
   ]
  },
  {
   "cell_type": "code",
   "execution_count": 8,
   "metadata": {},
   "outputs": [
    {
     "name": "stdout",
     "output_type": "stream",
     "text": [
      "200\n",
      "Percent variance captured by all components: 63.27091764592097\n",
      "300\n",
      "Percent variance captured by all components: 79.90167797218629\n",
      "400\n",
      "Percent variance captured by all components: 91.65215892049801\n",
      "500\n",
      "Percent variance captured by all components: 99.15826649787394\n",
      "600\n",
      "Percent variance captured by all components: 99.99999999999997\n",
      "700\n",
      "Percent variance captured by all components: 100.00000000000004\n",
      "800\n",
      "Percent variance captured by all components: 100.0\n",
      "900\n",
      "Percent variance captured by all components: 100.00000000000004\n",
      "1000\n",
      "Percent variance captured by all components: 100.0\n"
     ]
    }
   ],
   "source": [
    "from sklearn.decomposition import TruncatedSVD\n",
    "\n",
    "for i in range(200, 1100, 100):\n",
    "    svd= TruncatedSVD(i)\n",
    "    lsa = make_pipeline(svd, Normalizer(copy=False))\n",
    "    # Run SVD on the training data, then project the training data.\n",
    "    X_train_lsa = lsa.fit_transform(X_train_tfidf)\n",
    "\n",
    "    variance_explained=svd.explained_variance_ratio_\n",
    "    total_variance = variance_explained.sum()\n",
    "    print(i)\n",
    "    print(\"Percent variance captured by all components:\",total_variance*100)"
   ]
  },
  {
   "cell_type": "code",
   "execution_count": 122,
   "metadata": {},
   "outputs": [
    {
     "name": "stdout",
     "output_type": "stream",
     "text": [
      "Percent variance captured by all components: 100.00000000000004\n"
     ]
    }
   ],
   "source": [
    "# From the code above, I'm going to reduce the feature space from 2689 to 700. \n",
    "\n",
    "svd= TruncatedSVD(700)\n",
    "lsa = make_pipeline(svd, Normalizer(copy=False))\n",
    "# Run SVD on the training data, then project the training data.\n",
    "X_train_lsa = lsa.fit_transform(X_train_tfidf)\n",
    "X_test_lsa = lsa.transform(X_test_tfidf)\n",
    "\n",
    "variance_explained=svd.explained_variance_ratio_\n",
    "total_variance = variance_explained.sum()\n",
    "print(\"Percent variance captured by all components:\",total_variance*100)"
   ]
  },
  {
   "cell_type": "code",
   "execution_count": 125,
   "metadata": {},
   "outputs": [
    {
     "data": {
      "text/plain": [
       "(175, 525)"
      ]
     },
     "execution_count": 125,
     "metadata": {},
     "output_type": "execute_result"
    }
   ],
   "source": [
    "X_test_lsa.shape"
   ]
  },
  {
   "cell_type": "markdown",
   "metadata": {},
   "source": [
    "# Tf-idf Cluster Analysis"
   ]
  },
  {
   "cell_type": "markdown",
   "metadata": {},
   "source": [
    "- Investigating K-means, Mean Shift, Spectral Clustering, Afinity Propogation unsupervised clustering methods on the Tf-idf vectorization."
   ]
  },
  {
   "cell_type": "markdown",
   "metadata": {},
   "source": [
    "## K-Means\n",
    "-  K-means clustering aims to partition n observations into k clusters in which each observation belongs to the cluster with the nearest mean, serving as a prototype of the cluster."
   ]
  },
  {
   "cell_type": "code",
   "execution_count": 14,
   "metadata": {},
   "outputs": [
    {
     "data": {
      "image/png": "[encoded data removed]",
      "text/plain": [
       "<Figure size 432x288 with 1 Axes>"
      ]
     },
     "metadata": {},
     "output_type": "display_data"
    }
   ],
   "source": [
    "# Use the elbow method to see what is the optimal amount of clusters.\n",
    "\n",
    "# k means determine k\n",
    "distortions = []\n",
    "K = range(1,20)\n",
    "for k in K:\n",
    "    kmeanModel = KMeans(n_clusters=k).fit(X_train_lsa)\n",
    "    kmeanModel.fit(X_train_lsa)\n",
    "    distortions.append(sum(np.min(cdist(X_train_lsa, kmeanModel.cluster_centers_, 'euclidean'), \n",
    "                                  axis=1)) / X_train_lsa.shape[0])\n",
    "\n",
    "# Plot the elbow\n",
    "sns.set_style('darkgrid')\n",
    "plt.plot(K, distortions, 'bx-')\n",
    "plt.xlabel('k')\n",
    "plt.ylabel('Distortion')\n",
    "plt.title('The Elbow Method showing the optimal k')\n",
    "plt.show()"
   ]
  },
  {
   "cell_type": "code",
   "execution_count": 12,
   "metadata": {
    "scrolled": true
   },
   "outputs": [],
   "source": [
    "# Normalize the data.\n",
    "X_norm = normalize(X_train_lsa)\n",
    "\n",
    "# Reduce it to two components.\n",
    "X_pca = PCA(2).fit_transform(X_norm)"
   ]
  },
  {
   "cell_type": "code",
   "execution_count": 13,
   "metadata": {},
   "outputs": [
    {
     "data": {
      "image/png": "[encoded data removed]",
      "text/plain": [
       "<Figure size 432x288 with 1 Axes>"
      ]
     },
     "metadata": {},
     "output_type": "display_data"
    },
    {
     "name": "stdout",
     "output_type": "stream",
     "text": [
      "Comparing K-Means Clusters Against the Data:\n",
      "col_0                 0   1   2\n",
      "Author                         \n",
      "Bertrand Russell      0  46   3\n",
      "David Hume            0  51   0\n",
      "Friedrich Nietzsche  13  31   3\n",
      "Immanuel Kant         2  44   5\n",
      "John Locke            0  56   0\n",
      "Noam Chomsky          0  48   6\n",
      "Plato                 0  39  10\n",
      "René Descartes        0  15  38\n",
      "Sigmund Freud         3  53   3\n",
      "Socrates              0  54   2\n"
     ]
    },
    {
     "data": {
      "image/png": "[encoded data removed]",
      "text/plain": [
       "<Figure size 432x288 with 1 Axes>"
      ]
     },
     "metadata": {},
     "output_type": "display_data"
    },
    {
     "name": "stdout",
     "output_type": "stream",
     "text": [
      "Comparing K-Means Clusters Against the Data:\n",
      "col_0                 0   1  2   3   4  5   6  7\n",
      "Author                                          \n",
      "Bertrand Russell      0  19  0   7   5  0  18  0\n",
      "David Hume            0  29  0   1   1  0  20  0\n",
      "Friedrich Nietzsche   3   8  9   3   5  4  15  0\n",
      "Immanuel Kant         0  20  1   4  12  1  13  0\n",
      "John Locke            0  23  0   8   0  0  25  0\n",
      "Noam Chomsky          5  32  0   0   6  0  11  0\n",
      "Plato                 7  18  0   6   7  0  11  0\n",
      "René Descartes       19   5  0   0  18  0   4  7\n",
      "Sigmund Freud         1  30  2   2   4  2  18  0\n",
      "Socrates              1   4  0  32   1  0  18  0\n"
     ]
    },
    {
     "data": {
      "image/png": "[encoded data removed]",
      "text/plain": [
       "<Figure size 432x288 with 1 Axes>"
      ]
     },
     "metadata": {},
     "output_type": "display_data"
    },
    {
     "name": "stdout",
     "output_type": "stream",
     "text": [
      "Comparing K-Means Clusters Against the Data:\n",
      "col_0                 0  1   2   3  4  5   6  7   8   9\n",
      "Author                                                 \n",
      "Bertrand Russell     15  0   0   5  0  0  21  0   6   2\n",
      "David Hume           13  0   0   8  0  0  29  0   1   0\n",
      "Friedrich Nietzsche  11  7   1   6  3  0  12  3   2   2\n",
      "Immanuel Kant         9  0   0  13  1  0  20  1   3   4\n",
      "John Locke           18  0   0   3  0  0  27  0   8   0\n",
      "Noam Chomsky          7  0   3  13  0  0  28  0   0   3\n",
      "Plato                11  0   4   8  0  0  18  0   4   4\n",
      "René Descartes        2  0  12   7  0  6   7  0   0  19\n",
      "Sigmund Freud        14  0   0   6  3  0  31  1   1   3\n",
      "Socrates             21  0   1   1  0  0   3  0  29   1\n"
     ]
    }
   ],
   "source": [
    "K_values = [3,8,10]\n",
    "for i in K_values: \n",
    "    y_pred = KMeans(n_clusters=i, random_state=42).fit_predict(X_pca)\n",
    "    estimator = KMeans(n_clusters=i, random_state=42).fit(X_pca)\n",
    "    centers = estimator.cluster_centers_\n",
    "    \n",
    "    # Plot the solution.\n",
    "    plt.scatter(X_pca[:, 0], X_pca[:, 1], c = y_pred, cmap='viridis')\n",
    "    plt.scatter(centers[:, 0], centers[:, 1], c='r', s=200, alpha=0.5);\n",
    "    plt.title('K-Means Clusters: k = {}'.format(i))\n",
    "    plt.show()\n",
    "\n",
    "    # Check the solution against the data.\n",
    "    print('Comparing K-Means Clusters Against the Data:')\n",
    "    print(pd.crosstab(Y_train, y_pred))"
   ]
  },
  {
   "cell_type": "markdown",
   "metadata": {},
   "source": [
    "- From each cluster iteration's crosstable there seems to be no definitive textual partitioning amongst the persons of interest."
   ]
  },
  {
   "cell_type": "markdown",
   "metadata": {},
   "source": [
    "# Cluster Evaluation Metrics"
   ]
  },
  {
   "cell_type": "markdown",
   "metadata": {},
   "source": [
    "## Adjusted Rand Index: \n",
    "    \n",
    "    Rand index adjusted for chance.\n",
    "    The Rand Index computes a similarity measure between two clusterings by considering all pairs of samples and \n",
    "    counting pairs that are assigned in the same or different clusters in the predicted and true clusterings.\n",
    "    The adjusted Rand index is thus ensured to have a value close to 0.0 for random labeling independently of the \n",
    "    number of clusters and samples and exactly 1.0 when the clusterings are identical (up to a permutation).\n",
    "\n",
    "\n",
    "## Silhuoette Score: \n",
    "    \n",
    "    Calculated using the mean intra-cluster distance (a) and the mean nearest-cluster distance (b) for each sample. \n",
    "    The Silhouette Coefficient for a sample is (b - a) / max(a, b). To clarify, b is the distance between a sample \n",
    "    and the nearest cluster that the sample is not a part of. The best value is 1 and the worst value is -1. Values \n",
    "    near 0 indicate overlapping clusters. Negative values generally indicate that a sample has been assigned to the \n",
    "    wrong cluster, as a different cluster is more similar."
   ]
  },
  {
   "cell_type": "code",
   "execution_count": 15,
   "metadata": {
    "scrolled": true
   },
   "outputs": [
    {
     "name": "stdout",
     "output_type": "stream",
     "text": [
      "3 Clusters:\n",
      "Adjusted Rand Score: 0.02685461\n",
      "Silhouette Score: 0.00762575\n",
      "\n",
      "\n",
      "8 Clusters:\n",
      "Adjusted Rand Score: 0.05312629\n",
      "Silhouette Score: 0.007720029\n",
      "\n",
      "\n",
      "10 Clusters:\n",
      "Adjusted Rand Score: 0.06448301\n",
      "Silhouette Score: 0.008096992\n",
      "\n",
      "\n"
     ]
    }
   ],
   "source": [
    "# Evaluate the performance of the clusters with the Adjusted Rand Index and Sillouette values.\n",
    "K_values = [3,8,10]\n",
    "\n",
    "for i in K_values: \n",
    "    y_pred = KMeans(n_clusters=i, random_state=42).fit_predict(X_train_lsa)\n",
    "\n",
    "    print('{} Clusters:'.format(i))\n",
    "    print('Adjusted Rand Score: {:0.7}'.format(adjusted_rand_score(Y_train, y_pred)))\n",
    "    print('Silhouette Score: {:0.7}'.format(silhouette_score(X_train_lsa, y_pred, metric='euclidean')))\n",
    "    print('\\n')"
   ]
  },
  {
   "cell_type": "markdown",
   "metadata": {},
   "source": [
    "- The K-means algorithm does not seem to return a meaningful partioning of the text data in any iteration of k-value."
   ]
  },
  {
   "cell_type": "code",
   "execution_count": 16,
   "metadata": {
    "scrolled": true
   },
   "outputs": [
    {
     "name": "stdout",
     "output_type": "stream",
     "text": [
      "Cluster 0:\n",
      " abandon\n",
      " abstract\n",
      " abstracted\n",
      " abstruse\n",
      " accomplish\n",
      " acceptable\n",
      " absolutely\n",
      " absurdity\n",
      " accident\n",
      " administration\n",
      "Cluster 1:\n",
      " abandon\n",
      " abuse\n",
      " abstraction\n",
      " achievement\n",
      " accident\n",
      " acting\n",
      " affection\n",
      " administration\n",
      " actually\n",
      " abstain\n",
      "Cluster 2:\n",
      " abandon\n",
      " ability\n",
      " accept\n",
      " absolutely\n",
      " addressed\n",
      " accord\n",
      " air\n",
      " adventurer\n",
      " added\n",
      " advanced\n",
      "Cluster 3:\n",
      " abandon\n",
      " accepts\n",
      " ability\n",
      " achievement\n",
      " able\n",
      " account\n",
      " absurdity\n",
      " activity\n",
      " abuse\n",
      " accept\n",
      "Cluster 4:\n",
      " abandon\n",
      " achieve\n",
      " abstracted\n",
      " accident\n",
      " achieving\n",
      " activity\n",
      " acceptance\n",
      " accepting\n",
      " achieved\n",
      " amazing\n",
      "Cluster 5:\n",
      " aber\n",
      " abandon\n",
      " able\n",
      " abstract\n",
      " absolute\n",
      " account\n",
      " acting\n",
      " acceptance\n",
      " anti\n",
      " adjust\n",
      "Cluster 6:\n",
      " abandon\n",
      " aber\n",
      " abstain\n",
      " absurd\n",
      " accepts\n",
      " acquiring\n",
      " accuser\n",
      " aid\n",
      " acquainted\n",
      " advance\n",
      "Cluster 7:\n",
      " abandon\n",
      " absolute\n",
      " accidental\n",
      " according\n",
      " able\n",
      " added\n",
      " acceptance\n",
      " actual\n",
      " accepts\n",
      " admit\n",
      "Cluster 8:\n",
      " abandoned\n",
      " abandon\n",
      " aber\n",
      " al\n",
      " alcibiades\n",
      " ago\n",
      " advantage\n",
      " afford\n",
      " agree\n",
      " assumed\n",
      "Cluster 9:\n",
      " abandon\n",
      " accustomed\n",
      " achievement\n",
      " accidental\n",
      " accordingly\n",
      " acceptable\n",
      " aber\n",
      " acceptance\n",
      " accident\n",
      " advancement\n"
     ]
    }
   ],
   "source": [
    "km = KMeans(n_clusters=10, random_state=42).fit(X_train_lsa)\n",
    "order_centroids = km.cluster_centers_.argsort()[:, ::-1]\n",
    "terms = vectorizer.get_feature_names()\n",
    "for i in range(10):\n",
    "    print(\"Cluster %d:\" % i)\n",
    "    for ind in order_centroids[i, :10]:\n",
    "        print(' %s' % terms[ind])"
   ]
  },
  {
   "cell_type": "markdown",
   "metadata": {},
   "source": [
    "- We see at a cluster number of 10 there are numerous instances of the same word occuring in seperate clusters. "
   ]
  },
  {
   "cell_type": "code",
   "execution_count": null,
   "metadata": {},
   "outputs": [],
   "source": [
    "y_pred = KMeans(n_clusters=10, random_state=42).fit_predict(X_train_lsa)\n",
    "\n",
    "bow_cluster3_df = poems_df.copy()\n",
    "bow_cluster3_df['cluster'] = y_pred\n",
    "\n",
    "g = sns.factorplot(\"authors\", col=\"cluster\", col_wrap=3,data=bow_cluster3_df,kind=\"count\", aspect=1.5)\n",
    "g.set_xticklabels(rotation=30)\n",
    "plt.subplots_adjust(top=0.8)\n",
    "plt.suptitle('Authors by Cluster', fontsize=26)\n",
    "plt.show()"
   ]
  },
  {
   "cell_type": "markdown",
   "metadata": {},
   "source": [
    "## Mean Shift\n",
    "- Mean shift clustering aims to discover “blobs” in a smooth density of samples. It is a centroid-based algorithm, which works by updating candidates for centroids to be the mean of the points within a given region. These candidates are then filtered in a post-processing stage to eliminate near-duplicates to form the final set of centroids."
   ]
  },
  {
   "cell_type": "code",
   "execution_count": 18,
   "metadata": {
    "scrolled": true
   },
   "outputs": [
    {
     "name": "stdout",
     "output_type": "stream",
     "text": [
      "Number of estimated clusters: 1\n",
      "\n",
      "Adjusted Rand Score: 0.0\n",
      "\n",
      "Comparing the assigned categories to the ones in the data:\n",
      "col_0                 0\n",
      "Author                 \n",
      "Bertrand Russell     49\n",
      "David Hume           51\n",
      "Friedrich Nietzsche  47\n",
      "Immanuel Kant        51\n",
      "John Locke           56\n",
      "Noam Chomsky         54\n",
      "Plato                49\n",
      "René Descartes       53\n",
      "Sigmund Freud        59\n",
      "Socrates             56\n"
     ]
    }
   ],
   "source": [
    "# Here we set the bandwidth. This function automatically derives a bandwidth\n",
    "# number based on an inspection of the distances among points in the data.\n",
    "bandwidth = estimate_bandwidth(X_train_lsa, quantile=0.2, n_samples=500)\n",
    "\n",
    "# Declare and fit the model.\n",
    "ms = MeanShift(bandwidth=bandwidth, bin_seeding=True)\n",
    "ms.fit(X_train_lsa)\n",
    "\n",
    "# Extract cluster assignments for each data point.\n",
    "labels = ms.labels_\n",
    "\n",
    "y_pred_mean = ms.fit_predict(X_train_lsa)\n",
    "\n",
    "# Coordinates of the cluster centers.\n",
    "#cluster_centers = ms.cluster_centers_\n",
    "\n",
    "# Count our clusters.\n",
    "n_clusters_ = len(np.unique(labels))\n",
    "\n",
    "print(\"Number of estimated clusters: {}\\n\".format(n_clusters_))\n",
    "\n",
    "print('Adjusted Rand Score: {:0.7}\\n'.format(adjusted_rand_score(Y_train, y_pred_mean)))\n",
    "\n",
    "print('Comparing the assigned categories to the ones in the data:')\n",
    "print(pd.crosstab(Y_train,labels))"
   ]
  },
  {
   "cell_type": "markdown",
   "metadata": {},
   "source": [
    "- The Mean Shift algorithm did not score highly and assumed only one cluster for all textual data."
   ]
  },
  {
   "cell_type": "markdown",
   "metadata": {},
   "source": [
    "## Spectral Clustering\n",
    "- A technique with roots in graph theory, where the approach is used to identify communities of nodes in a graph based on the edges connecting them. Spectral clustering uses information from the eigenvalues (spectrum) of special matrices built from the data set."
   ]
  },
  {
   "cell_type": "code",
   "execution_count": 21,
   "metadata": {
    "scrolled": false
   },
   "outputs": [
    {
     "name": "stdout",
     "output_type": "stream",
     "text": [
      "Adjusted Rand Score: 0.04836032\n",
      "Silhouette Score: 0.01622993\n",
      "\n",
      "Comparing the assigned categories to the ones in the data:\n",
      "col_0                 0  1   2   3  4  5  6   7   8   9\n",
      "Author                                                 \n",
      "Bertrand Russell      7  0   0   1  0  0  0  27  14   0\n",
      "David Hume            1  0   0   0  0  0  0  38  12   0\n",
      "Friedrich Nietzsche   2  3  10   3  0  0  0  20   9   0\n",
      "Immanuel Kant         6  0   2   1  0  0  0  35   7   0\n",
      "John Locke           17  0   0   0  0  0  0  20  16   3\n",
      "Noam Chomsky         14  1   0   6  0  0  0  24   9   0\n",
      "Plato                 6  0   0  10  1  1  1  15  11   4\n",
      "René Descartes        0  0   0  25  0  0  0  22   6   0\n",
      "Sigmund Freud         0  0   3   3  0  0  0  42  10   1\n",
      "Socrates              0  0   0   1  1  1  1   7  31  14\n"
     ]
    }
   ],
   "source": [
    "# Pick the number of clusters.\n",
    "n_clusters= 10\n",
    "\n",
    "# Initialize the model.\n",
    "sc = SpectralClustering(n_clusters=n_clusters)\n",
    "\n",
    "# Fit and predict the model.\n",
    "y_pred_spectral = sc.fit_predict(X_train_lsa)\n",
    "\n",
    "print('Adjusted Rand Score: {:0.7}'.format(adjusted_rand_score(Y_train, y_pred_spectral)))\n",
    "print('Silhouette Score: {:0.7}\\n'.format(silhouette_score(X_train_lsa, y_pred_spectral, metric='euclidean')))\n",
    "\n",
    "print('Comparing the assigned categories to the ones in the data:')\n",
    "print(pd.crosstab(Y_train,y_pred_spectral))"
   ]
  },
  {
   "cell_type": "markdown",
   "metadata": {},
   "source": [
    "- Although better than the Mean Shift method, the Spectral Clustering algorithm did not achieve an improvement to overall clustering consistency."
   ]
  },
  {
   "cell_type": "markdown",
   "metadata": {},
   "source": [
    "## Afinity Propogation\n",
    "- In Affinity Propagation the data points can be seen as a network where all the data points send messages to all other points. The subject of these messages are the willingness of the points being exemplars. Exemplars are points that explain the other data points ‘best’ and are the most significant of their cluster. A cluster only has one exemplar. All the data points want to collectively determine which data points are an exemplar for them."
   ]
  },
  {
   "cell_type": "code",
   "execution_count": 22,
   "metadata": {
    "scrolled": true
   },
   "outputs": [
    {
     "name": "stdout",
     "output_type": "stream",
     "text": [
      "Adjusted Rand Score: 0.04632585\n",
      "Silhouette Score: 0.03125006\n",
      "\n",
      "Comparing the assigned categories to the ones in the data:\n",
      "col_0                0   1   2   3   4   5   6   7   8   9  ...  78  79  80  \\\n",
      "Author                                                      ...               \n",
      "Bertrand Russell      0   0   0   0   0   0   0   0   1   0 ...   0   0   0   \n",
      "David Hume            5   0   0   0   0   0   0   0   2   0 ...   0   0   0   \n",
      "Friedrich Nietzsche   0   0   0   1   0   0   0   0   3   0 ...   0   0   0   \n",
      "Immanuel Kant         1   0   0   1   3   0   0   0   0   3 ...   0   0   1   \n",
      "John Locke            0   1   0   1   1   1   0   0   0   0 ...   0   0   0   \n",
      "Noam Chomsky          0   0   4   0   0   0   0   1   2   0 ...   0   1   0   \n",
      "Plato                 0   0   1   0   0   3   0   0   0   0 ...   0   0   0   \n",
      "René Descartes        0   0   0   0   1   1   0   0   1   2 ...   3   0   3   \n",
      "Sigmund Freud         0   0   0   3   0   1   3   3   2   0 ...   0   2   0   \n",
      "Socrates              0   4   0   0   0   1   0   0   0   0 ...   0   0   0   \n",
      "\n",
      "col_0                81  82  83  84  85  86  87  \n",
      "Author                                           \n",
      "Bertrand Russell      0   1   0   3   0   0   2  \n",
      "David Hume            0   0   1   3   0   1   1  \n",
      "Friedrich Nietzsche   4   0   1   0   0   1   0  \n",
      "Immanuel Kant         0   0   0   3   0   0   1  \n",
      "John Locke            0   1   0   0   0   1   0  \n",
      "Noam Chomsky          0   2   2   0   0   1   0  \n",
      "Plato                 0   0   0   0   0   0   1  \n",
      "René Descartes        0   2   2   0   1   0   0  \n",
      "Sigmund Freud         0   0   1   0   2   1   0  \n",
      "Socrates              0   0   1   0   0   0   0  \n",
      "\n",
      "[10 rows x 88 columns]\n"
     ]
    }
   ],
   "source": [
    "af = AffinityPropagation().fit(X_train_lsa)\n",
    "\n",
    "y_pred_affinity = af.fit_predict(X_train_lsa)\n",
    "\n",
    "print('Adjusted Rand Score: {:0.7}'.format(adjusted_rand_score(Y_train, y_pred_affinity)))\n",
    "print('Silhouette Score: {:0.7}\\n'.format(silhouette_score(X_train_lsa, y_pred_affinity, metric='euclidean')))\n",
    "\n",
    "print('Comparing the assigned categories to the ones in the data:')\n",
    "print(pd.crosstab(Y_train,y_pred_affinity))"
   ]
  },
  {
   "cell_type": "markdown",
   "metadata": {},
   "source": [
    "- The Affinity Propogation method has returned the highest ARS and Silluoette values, however we see from the crosstable analysis that there are still instances of persons of interest sharing multiple clusters."
   ]
  },
  {
   "cell_type": "code",
   "execution_count": 23,
   "metadata": {
    "scrolled": true
   },
   "outputs": [
    {
     "name": "stdout",
     "output_type": "stream",
     "text": [
      "Cluster 0:\n",
      " admittedly\n",
      " aside\n",
      " assistance\n",
      " age\n",
      " anytus\n",
      " abandon\n",
      " acquiring\n",
      " adventurer\n",
      " admitting\n",
      " cognitive\n",
      "Cluster 1:\n",
      " according\n",
      " admit\n",
      " abandon\n",
      " accidental\n",
      " added\n",
      " actual\n",
      " able\n",
      " accident\n",
      " appears\n",
      " apprehend\n",
      "Cluster 2:\n",
      " activity\n",
      " achieving\n",
      " aber\n",
      " abandon\n",
      " assent\n",
      " accepts\n",
      " abstract\n",
      " calling\n",
      " children\n",
      " bacon\n",
      "Cluster 3:\n",
      " afford\n",
      " advancement\n",
      " aim\n",
      " algebra\n",
      " action\n",
      " adjust\n",
      " assume\n",
      " admirable\n",
      " carry\n",
      " allows\n",
      "Cluster 4:\n",
      " analogous\n",
      " ambition\n",
      " ages\n",
      " abstain\n",
      " allows\n",
      " angle\n",
      " assistance\n",
      " arithmetic\n",
      " analytic\n",
      " century\n",
      "Cluster 5:\n",
      " ascribe\n",
      " acting\n",
      " addition\n",
      " altogether\n",
      " antagonism\n",
      " acquiring\n",
      " attempted\n",
      " abandon\n",
      " affair\n",
      " begin\n",
      "Cluster 6:\n",
      " brings\n",
      " absolute\n",
      " breath\n",
      " authority\n",
      " abandon\n",
      " attribute\n",
      " attended\n",
      " actuality\n",
      " activity\n",
      " adequately\n",
      "Cluster 7:\n",
      " achieving\n",
      " admitting\n",
      " adequately\n",
      " adequate\n",
      " addition\n",
      " aid\n",
      " accustomed\n",
      " animal\n",
      " aggression\n",
      " aimless\n",
      "Cluster 8:\n",
      " abstruse\n",
      " abandon\n",
      " ability\n",
      " counterpart\n",
      " acquainted\n",
      " acceptable\n",
      " abstraction\n",
      " corrupt\n",
      " according\n",
      " accepts\n",
      "Cluster 9:\n",
      " act\n",
      " accident\n",
      " acquaintance\n",
      " affair\n",
      " accurate\n",
      " alien\n",
      " abstruse\n",
      " american\n",
      " actuality\n",
      " ancestor\n"
     ]
    }
   ],
   "source": [
    "order_centroids = af.cluster_centers_.argsort()[:, ::-1]\n",
    "terms = vectorizer.get_feature_names()\n",
    "for i in range(10):\n",
    "    print(\"Cluster %d:\" % i)\n",
    "    for ind in order_centroids[i, :10]:\n",
    "        print(' %s' % terms[ind])"
   ]
  },
  {
   "cell_type": "markdown",
   "metadata": {},
   "source": [
    "- Similar to the K-means method, instances of specific words are found to be grouped in multiple clusters. "
   ]
  },
  {
   "cell_type": "markdown",
   "metadata": {},
   "source": [
    "- Overall, Tf-idf did not return consistent results, a possible explanation may be that there may not of been enough words in the matrix that carried individual weights or there were too many words that didn't have much value in the matrix."
   ]
  },
  {
   "cell_type": "markdown",
   "metadata": {},
   "source": [
    "# Feature Generation: Bags of Words\n",
    "- A simplifying representation used in natural language processing and information retrieval (IR). In this model, a text (such as a sentence or a document) is represented as the bag (multiset) of its words, disregarding grammar and even word order but keeping multiplicity."
   ]
  },
  {
   "cell_type": "code",
   "execution_count": 24,
   "metadata": {},
   "outputs": [],
   "source": [
    "plato = wikiquote.quotes('Plato', max_quotes=70)\n",
    "freud = wikiquote.quotes('Sigmund Freud', max_quotes=70)\n",
    "socrates = wikiquote.quotes('Socrates', max_quotes=70)\n",
    "nietzsche = wikiquote.quotes('Friedrich Nietzsche', max_quotes=70)\n",
    "descartes = wikiquote.quotes('René Descartes', max_quotes=70)\n",
    "kant = wikiquote.quotes('Immanuel Kant', max_quotes=70)\n",
    "hume = wikiquote.quotes('David Hume', max_quotes=70)\n",
    "russell = wikiquote.quotes('Bertrand Russell', max_quotes=70)\n",
    "locke = wikiquote.quotes('John Locke', max_quotes=70)\n",
    "chomsky = wikiquote.quotes('Noam Chomsky', max_quotes=70)"
   ]
  },
  {
   "cell_type": "code",
   "execution_count": 25,
   "metadata": {},
   "outputs": [],
   "source": [
    "stopwords_eng = set(stopwords.words(\"english\"))\n",
    "\n",
    "def clean_quote(raw_quote): # create a function to return cleaned text\n",
    "    \"\"\"\n",
    "    Function to clean quote text to keep only letters and remove stopwords\n",
    "    Returns a string of the cleaned quote text\n",
    "    \"\"\"\n",
    "    raw_quote = str(raw_quote).strip('[]')\n",
    "    letters_only = re.sub('[^a-zA-Z]', ' ', raw_quote)\n",
    "    words = letters_only.lower().split()\n",
    "    useful_words = [x for x in words if not x in stopwords_eng]\n",
    "    \n",
    "    # Combine words into a paragraph again\n",
    "    useful_words_string = ' '.join(useful_words)\n",
    "    return(useful_words_string)"
   ]
  },
  {
   "cell_type": "code",
   "execution_count": 26,
   "metadata": {},
   "outputs": [],
   "source": [
    "plato = clean_quote(plato)\n",
    "freud = clean_quote(freud)\n",
    "socrates = clean_quote(socrates)\n",
    "nietzsche = clean_quote(nietzsche)\n",
    "descartes = clean_quote(descartes)\n",
    "kant = clean_quote(kant)\n",
    "hume = clean_quote(hume)\n",
    "russell = clean_quote(russell)\n",
    "locke = clean_quote(locke)\n",
    "chomsky = clean_quote(chomsky)"
   ]
  },
  {
   "cell_type": "code",
   "execution_count": 27,
   "metadata": {},
   "outputs": [],
   "source": [
    "# run spaCy and analyze the documents\n",
    "nlp = spacy.load('en')\n",
    "\n",
    "plato_doc = nlp(plato)\n",
    "freud_doc = nlp(freud)\n",
    "socrates_doc = nlp(socrates)\n",
    "nietzsche_doc = nlp(nietzsche)\n",
    "descartes_doc = nlp(descartes)\n",
    "russell_doc = nlp(russell)\n",
    "kant_doc = nlp(kant)\n",
    "hume_doc = nlp(hume)\n",
    "locke_doc = nlp(locke)\n",
    "chomsky_doc = nlp(chomsky)"
   ]
  },
  {
   "cell_type": "code",
   "execution_count": 28,
   "metadata": {
    "scrolled": true
   },
   "outputs": [
    {
     "data": {
      "text/plain": [
       "let every man remind descendants also soldiers must desert ranks ancestors cowardice fall behind even exhort day future time whenever meet shall continue remind exhort ye sons heroes strive bravest men think ought repeat fathers desired said survivors went battle case anything happened tell heard say speech would fain saying judging said must imagine hear saying repeat sons event proves fathers brave men might lived dishonourably preferred die honourably rather bring children disgrace rather dishonour fathers forefathers considering life life one dishonour race one neither men gods friendly either earth death world remember words whatever aim let virtue condition attainment aim know without possessions pursuits dishonourable evil neither wealth bring honour owner coward one wealth belongs another beauty strength body dwelling base cowardly man appear comely reverse comely making possessor conspicuous manifesting forth cowardice knowledge separated justice virtue seen cunning wisdom wherefore make first last constant absorbing aim exceed possible us ancestors virtue know excel virtue brings us shame excelled source happiness us shall likely defeated likely victors contest learn order lives abuse waste reputation ancestors knowing man self respect nothing dishonourable honoured sake account reputation ancestors honour parents fair noble treasure posterity use treasure wealth honour leave none successors neither money reputation alike base dishonourable follow precepts received us friends hour destiny brings hither neglect words disgraced lives one welcome receive message delivered children rhetoric seems producer persuasion belief instruction matter right wrong rhetorician business instruct law court public meeting matters right wrong make believe case arts orator rhetoric need know truth actual matters one merely needs discovered device persuasion make one appear know know better know orators despots least power cities since nothing wish practically speaking though whatever think best would better multitudes men disagree rather one harmony knowledge food soul must take care friend sophist deceive us praises sells like dealers wholesale retail sell food body praise indiscriminately goods without knowing really beneficial hurtful neither human wisdom divine inspiration confer upon man greater blessing live life happiness harmony earth socrates disgrace begins man writes well badly phaedrus clearly socrates well badly need ask lysias poet orator ever wrote write either political work metre metre poet prose writer teach us oh dear pan gods place grant may beautiful inside let external possessions friendly harmony within may consider wise man rich gold let much moderate man could bear carry friends things common neither family privilege wealth anything love light beacon man must steer sets live better life vicious lover follower earthly love desires body rather soul heart set mutable must therefore inconstant soon body loves begins pass first flower beauty spreads wings flies away giving lie pretty speeches dishonoring vows whereas lover whose heart touched moral beauties constant life become one never fade touched love everyone becomes poet true order going led another things love begin beauties earth mount upwards sake beauty using steps one going two two fair forms fair practices fair practices fair notions fair notions arrives notion absolute beauty last knows essence beauty beholding beauty eye mind enabled bring forth images beauty realities hold image reality bringing forth nourishing true virtue become friend god immortal mortal man may one ever acts honestly administration states helper save one maintains cause since rule city lot suppose unwilling enact laws prevent young people discipline spending wasting wealth making loans secured young people property calling loans become even richer honored inexperienced wisdom virtue ever occupied feasting carried downward fitting wander whole life long neither ever looking upward truth rising toward tasting pure lasting pleasures like cattle always looking downward heads bent toward ground banquet tables feed fatten fornicate order increase possessions kick butt horns hoofs steel kill insatiable impossible conceive many without one things picture viewed distance appear one condition alike mind eye regard absolute great many great things way another great appear beyond must appear great island atlantis great wonderful empire rule whole island several others parts continent furthermore men atlantis subjected parts libya within columns heracles far egypt europe far tyrrhenia vast power gathered one endeavored subdue blow country whole region within straits solon country shone forth excellence virtue strength among mankind universe quickened soul god well pleased bethought make yet like type whereas type eternal nought created eternal devised moving image abiding eternity call time made days months years portions time past future forms time though wrongly attribute also eternity eternal ought say shall alone like manner wrong saying sensible things become perish ever fleeting changing existence time father begat perceived created image eternal gods motion life rejoiced well pleased bethought make yet nearly like pattern whereas living eternally existent even essayed make like best power nature ideal eternal bestow attribute altogether upon created thing impossible bethought make moving image eternity ordering universe made eternity abides unity eternal image moving according number even named time whereas days nights months years universe created devised generation along fashioning universe portions time shall forms time come although wrongly ascribe unawares eternal essence say shall verity alone belongs shall meet applied becoming moves time motions ever changeless without motion must become elder younger time neither must become past future attributes becoming attaches moving objects sense come forms time image eternity revolves according number moreover say become become becoming becoming shall become shall become speak incorrectly concerning things present perchance right season inquire particularly time come along universe generated together together may dissolved dissolution ever come pass made pattern eternal nature might like possible pattern existent eternity copy shall throughout time continually plan intent god generation time sun moon five stars name planets created defining preserving numbers time month fulfilled moon completing orbit overtakes sun year sun completed course courses others men taken account save many know time arises wanderings incalculable multitude marvellously intricate none less however observe perfect number time fulfils perfect year moment relative swiftnesses eight revolutions accomplish course together reach starting point measured circle uniformly moving way causes created stars wander heavens turn therein order universe may like perfect ideal animal assimilation eternal l et us assign figures come theory fire earth water air earth let us give cubical form earth least mobile four plastic bodies substance must possess nature highest degree bases stable triangles assumed starting point equal sides stable unequal surfaces composed two triangles equilateral quadrangle necessarily stable equilateral triangle among fewest bases must naturally respects cutting keen also nimble seeing composed smallest number similar parts let determined solid body taken form pyramid tetrahedron element seed fire second order generation let octahedron us say air third icosahedron water bodies must conceive small single body several kinds cannot smallness seen us many heaped together united mass seen earth meets fire dissolved keenness would drift whether dissolved fire mass air water parts meeting united became earth never could pass kind water divided fire air may formed become one particle fire two air divisions air may become every particle broken two particles fire fire caught air waters earth little great bulk moving amid rushing body contending vanquished broken two particles fire combine one figure air air vanquished broken small two whole one half particle one whole figure water composed let us also reckon thus kinds intercepted fire divided sharpness angles sides forms shape fire ceases divided shall assume silence gives consent pride much pride admirers numerous high spirited run away overpowered superior force character one remains want understand reason much think need man great possessions lack nothing beginning body ending soul love alcibiades hardly like confess would long ago passed away flatter saw loving good things thinking ought pass life enjoyment hope prove great value state proved attain absolute power indulge hope shall supreme power able prove great value want know whether make long speech habit hearing way socrates shoemaker example uses square tool circular tool tools cutting alcibiades yes nsocrates tool cutter user tool nalcibiades course nsocrates shall say shoemaker cut tools hands nalcibiades hands well nsocrates uses hands nalcibiades yes nsocrates man use whole body nalcibiades certainly nsocrates uses different used nalcibiades true nsocrates man body nalcibiades inference nsocrates nalcibiades cannot say nsocrates nay say user body nalcibiades yes nsocrates user body soul nalcibiades yes soul wonder feeling philosopher philosophy begins wonder one discouraged theaetetus make constant progress even though slow aristotle eminent pupils plato seceded plato still alive tell story plato said aristotle kicked us chickens mother hatched successful people never worry others ignorance root stem evil atheism disease soul becomes error understanding dead seen end war watch man play hour learn talking year kind everyone meet fighting hard battle necessity mother invention music moral law gives soul universe wings mind flight imagination charm sadness gaiety life everything essence order leads good beautiful invisible nevertheless dazzling passionate eternal form easily forgive child afraid dark real tragedy life men afraid light empty vessels make loudest sounds least wit greatest babblers first men pure justice famed moral virtue aristocles lies e er lived one truly wise man wiser still great envy"
      ]
     },
     "execution_count": 28,
     "metadata": {},
     "output_type": "execute_result"
    }
   ],
   "source": [
    "plato_doc"
   ]
  },
  {
   "cell_type": "code",
   "execution_count": 31,
   "metadata": {},
   "outputs": [],
   "source": [
    "# Utility function to create a list of the 1500 most common words.\n",
    "def bag_of_words(text):\n",
    "    \n",
    "    # Filter out punctuation and stop words.\n",
    "    allwords = [token.lemma_\n",
    "                for token in text\n",
    "                if not token.is_punct\n",
    "                and not token.is_stop]\n",
    "    \n",
    "    # Return the most common words.\n",
    "    return [item[0] for item in Counter(allwords).most_common(1500)]"
   ]
  },
  {
   "cell_type": "code",
   "execution_count": 32,
   "metadata": {},
   "outputs": [],
   "source": [
    "# Set up the bags.\n",
    "plato_words = bag_of_words(plato_doc)\n",
    "freud_words = bag_of_words(freud_doc)\n",
    "socrates_words = bag_of_words(socrates_doc)\n",
    "nietzsche_words = bag_of_words(nietzsche_doc)\n",
    "descartes_words = bag_of_words(descartes_doc)\n",
    "russell_words = bag_of_words(russell_doc)\n",
    "kant_words = bag_of_words(kant_doc)\n",
    "hume_words = bag_of_words(hume_doc)\n",
    "locke_words = bag_of_words(locke_doc)\n",
    "chomsky_words = bag_of_words(chomsky_doc)"
   ]
  },
  {
   "cell_type": "code",
   "execution_count": 33,
   "metadata": {},
   "outputs": [],
   "source": [
    "# Group into sentences\n",
    "plato_sents = [[sent, 'Plato'] for sent in plato_doc.sents]\n",
    "freud_sents = [[sent, 'Freud'] for sent in freud_doc.sents]\n",
    "socrates_sents = [[sent, 'Socrates'] for sent in socrates_doc.sents]\n",
    "nietzsche_sents = [[sent, 'Nietzsche'] for sent in nietzsche_doc.sents]\n",
    "descartes_sents = [[sent, 'Descartes'] for sent in descartes_doc.sents]\n",
    "russell_sents = [[sent, 'Russell'] for sent in russell_doc.sents]\n",
    "kant_sents = [[sent, 'Kant'] for sent in kant_doc.sents]\n",
    "hume_sents = [[sent, 'Hume'] for sent in hume_doc.sents]\n",
    "locke_sents = [[sent, 'Locke'] for sent in locke_doc.sents]\n",
    "chomsky_sents = [[sent, 'Chomsky'] for sent in chomsky_doc.sents]"
   ]
  },
  {
   "cell_type": "code",
   "execution_count": 35,
   "metadata": {},
   "outputs": [
    {
     "data": {
      "text/plain": [
       "[[let every man remind descendants also soldiers must desert ranks ancestors cowardice fall behind even exhort day future time whenever meet shall continue remind exhort ye sons heroes strive bravest men think ought repeat fathers desired said survivors went battle case anything happened tell heard say speech would fain saying judging said must imagine hear saying repeat sons event proves fathers brave men might lived dishonourably preferred die honourably rather bring children disgrace rather dishonour fathers forefathers considering life life one dishonour race,\n",
       "  'Plato'],\n",
       " [one neither men gods friendly either earth death world remember words whatever aim let virtue condition attainment aim know without possessions pursuits dishonourable evil neither wealth bring honour owner coward one wealth belongs another beauty strength body dwelling base cowardly man appear comely reverse comely making possessor conspicuous manifesting forth cowardice knowledge separated justice virtue seen cunning wisdom wherefore make first,\n",
       "  'Plato'],\n",
       " [last constant absorbing aim exceed possible us ancestors virtue know,\n",
       "  'Plato'],\n",
       " [excel virtue brings us shame excelled source happiness us shall likely defeated likely victors contest learn order lives abuse waste reputation ancestors knowing man self respect,\n",
       "  'Plato'],\n",
       " [nothing dishonourable honoured sake account reputation ancestors honour parents fair noble treasure posterity use,\n",
       "  'Plato'],\n",
       " [treasure wealth honour leave none successors, 'Plato'],\n",
       " [neither money reputation alike base dishonourable follow precepts received us friends hour,\n",
       "  'Plato'],\n",
       " [destiny brings hither neglect words disgraced lives one welcome receive message delivered children rhetoric seems producer persuasion belief instruction matter right wrong rhetorician business instruct law court public meeting matters right wrong make believe case arts orator rhetoric need know truth actual matters one merely needs discovered device persuasion make one appear know,\n",
       "  'Plato'],\n",
       " [know better, 'Plato'],\n",
       " [know orators despots least power cities since nothing wish practically speaking though whatever think best would better multitudes men disagree rather one harmony knowledge food soul must take care friend sophist deceive us praises sells like dealers wholesale retail sell food body praise indiscriminately goods without knowing really beneficial hurtful neither human wisdom divine inspiration confer upon man greater blessing live life happiness harmony earth socrates disgrace begins man writes well badly phaedrus clearly socrates,\n",
       "  'Plato'],\n",
       " [well badly need, 'Plato'],\n",
       " [ask lysias poet orator ever wrote write either political work metre metre poet prose writer teach us,\n",
       "  'Plato'],\n",
       " [oh dear pan gods place grant may beautiful inside, 'Plato'],\n",
       " [let external possessions friendly harmony within may consider wise man rich gold let much moderate man could bear carry friends things common neither family privilege wealth anything love light beacon man must steer sets live better life vicious lover follower earthly love desires body rather soul heart set mutable,\n",
       "  'Plato'],\n",
       " [must therefore inconstant soon body loves begins pass first flower beauty spreads wings flies away giving lie pretty speeches dishonoring vows whereas lover whose heart touched moral beauties constant life become one never fade touched love,\n",
       "  'Plato'],\n",
       " [everyone becomes poet true order going led another things love begin beauties earth mount upwards sake beauty using steps one going two two fair forms fair practices fair practices fair notions fair notions arrives notion absolute beauty,\n",
       "  'Plato'],\n",
       " [last knows essence beauty beholding beauty eye mind enabled bring forth images beauty realities hold image reality bringing forth nourishing true virtue,\n",
       "  'Plato'],\n",
       " [become, 'Plato'],\n",
       " [friend god immortal mortal man may one ever acts honestly administration states helper save one maintains,\n",
       "  'Plato'],\n",
       " [cause since rule city lot suppose unwilling enact laws prevent young people discipline spending wasting wealth making loans secured young people property calling loans become even richer honored inexperienced wisdom virtue ever occupied feasting carried downward fitting wander whole life long neither ever looking upward truth rising toward tasting pure lasting pleasures like cattle always looking downward heads bent toward ground banquet tables feed fatten fornicate order increase possessions kick butt horns hoofs steel kill insatiable impossible conceive many without one things picture viewed distance appear one condition alike mind eye regard absolute great many great things way,\n",
       "  'Plato'],\n",
       " [another great appear beyond must appear great island atlantis great wonderful empire rule whole island several others parts continent,\n",
       "  'Plato'],\n",
       " [furthermore men atlantis subjected parts libya within columns heracles far egypt europe far tyrrhenia vast power gathered one endeavored subdue blow country whole region within straits solon country shone forth excellence virtue strength among mankind universe quickened soul god well pleased bethought make yet like type whereas type eternal,\n",
       "  'Plato'],\n",
       " [nought created eternal devised moving image abiding eternity call time made days months years portions time past future forms time though wrongly attribute also eternity eternal,\n",
       "  'Plato'],\n",
       " [ought say shall alone like manner wrong saying sensible things become perish ever fleeting changing existence time father begat perceived created image eternal gods motion life rejoiced well pleased bethought make yet nearly like pattern whereas living eternally existent even essayed make like best power nature ideal eternal bestow attribute altogether upon created thing impossible bethought make moving image eternity ordering universe made eternity abides unity eternal image moving according number even named time whereas days nights months years universe created devised generation along fashioning universe portions time shall forms time come although wrongly ascribe unawares eternal essence say,\n",
       "  'Plato'],\n",
       " [shall verity alone belongs, 'Plato'],\n",
       " [shall meet applied becoming moves time motions ever changeless without motion must become elder younger time,\n",
       "  'Plato'],\n",
       " [neither must become past future attributes becoming attaches moving objects sense come forms time image eternity revolves according number moreover say become become becoming becoming shall become,\n",
       "  'Plato'],\n",
       " [shall become speak incorrectly concerning things present perchance right season inquire,\n",
       "  'Plato'],\n",
       " [particularly time come along universe generated together together may dissolved dissolution ever come pass made pattern eternal nature might like possible pattern existent eternity copy shall throughout time continually plan intent god generation time sun moon five stars name planets created defining preserving numbers,\n",
       "  'Plato'],\n",
       " [time month fulfilled moon completing orbit overtakes, 'Plato'],\n",
       " [sun year sun completed course courses others men taken account save many know time,\n",
       "  'Plato'],\n",
       " [arises wanderings, 'Plato'],\n",
       " [incalculable multitude marvellously intricate none less however observe perfect number time fulfils perfect year moment relative swiftnesses eight revolutions accomplish course together reach starting point measured circle uniformly moving way causes created stars wander heavens turn therein order universe may like perfect ideal animal assimilation,\n",
       "  'Plato'],\n",
       " [eternal l et us assign figures come theory fire earth water air earth,\n",
       "  'Plato'],\n",
       " [let us give cubical form earth least mobile four plastic bodies substance must possess nature highest degree bases stable triangles assumed starting point equal sides stable unequal surfaces composed two triangles equilateral quadrangle necessarily stable equilateral triangle among fewest bases must naturally respects cutting keen also nimble seeing composed smallest number similar parts let determined solid body taken form pyramid tetrahedron element seed fire second order generation let octahedron us say air third icosahedron water bodies must conceive small single body several kinds cannot smallness seen us many heaped together united mass seen earth meets fire dissolved keenness would drift whether dissolved fire mass air water parts meeting united became earth,\n",
       "  'Plato'],\n",
       " [never could pass kind water divided fire air may formed become one particle fire two air divisions air may become every particle broken two particles fire fire caught air waters earth little great bulk moving amid rushing body contending vanquished broken two particles fire combine one figure air air vanquished broken small two whole one half particle one whole figure water composed let us also reckon thus kinds intercepted fire divided sharpness angles sides forms,\n",
       "  'Plato'],\n",
       " [shape fire ceases divided shall assume silence gives consent pride much pride admirers numerous high spirited run away overpowered superior force character one remains want understand,\n",
       "  'Plato'],\n",
       " [reason much think need man great possessions lack nothing beginning body ending soul love alcibiades hardly like confess would long ago passed away flatter saw,\n",
       "  'Plato'],\n",
       " [loving good things thinking ought pass, 'Plato'],\n",
       " [life enjoyment hope prove great value state proved attain absolute power indulge hope shall supreme power able prove great value want know whether make long speech habit hearing,\n",
       "  'Plato'],\n",
       " [way socrates shoemaker example uses square tool circular tool tools cutting alcibiades,\n",
       "  'Plato'],\n",
       " [yes nsocrates tool cutter user tool nalcibiades course nsocrates shall say shoemaker cut tools hands nalcibiades hands well nsocrates uses hands nalcibiades yes nsocrates man use whole body nalcibiades certainly nsocrates,\n",
       "  'Plato'],\n",
       " [uses different used nalcibiades true nsocrates man body nalcibiades inference nsocrates,\n",
       "  'Plato'],\n",
       " [nalcibiades cannot say nsocrates, 'Plato'],\n",
       " [nay say user body nalcibiades yes nsocrates user body soul, 'Plato'],\n",
       " [nalcibiades, 'Plato'],\n",
       " [yes soul wonder feeling, 'Plato'],\n",
       " [philosopher philosophy begins wonder one discouraged theaetetus make constant progress even though slow aristotle eminent pupils plato seceded plato still alive tell story plato said aristotle kicked us chickens mother hatched successful people never worry others ignorance root stem evil atheism disease soul becomes error understanding dead seen end war watch man play,\n",
       "  'Plato'],\n",
       " [hour learn, 'Plato'],\n",
       " [talking year kind everyone meet fighting hard battle necessity mother invention music moral law,\n",
       "  'Plato'],\n",
       " [gives soul universe wings mind flight imagination charm sadness gaiety life everything essence order leads good beautiful invisible nevertheless dazzling passionate eternal form easily forgive child afraid dark real tragedy life men afraid light empty vessels make loudest sounds least wit greatest babblers first men pure justice famed moral virtue aristocles lies e er lived one truly wise man wiser still great envy,\n",
       "  'Plato']]"
      ]
     },
     "execution_count": 35,
     "metadata": {},
     "output_type": "execute_result"
    }
   ],
   "source": [
    "plato_sents"
   ]
  },
  {
   "cell_type": "code",
   "execution_count": 36,
   "metadata": {},
   "outputs": [],
   "source": [
    "# Combine the sentences from the 10 novels into one data frame.\n",
    "sentences = pd.DataFrame(plato_sents + freud_sents + socrates_sents + nietzsche_sents + descartes_sents + kant_sents + \n",
    "                 hume_sents + russell_sents + locke_sents + chomsky_sents)"
   ]
  },
  {
   "cell_type": "code",
   "execution_count": 37,
   "metadata": {
    "scrolled": true
   },
   "outputs": [
    {
     "data": {
      "text/html": [
       "<div>\n",
       "<style scoped>\n",
       "    .dataframe tbody tr th:only-of-type {\n",
       "        vertical-align: middle;\n",
       "    }\n",
       "\n",
       "    .dataframe tbody tr th {\n",
       "        vertical-align: top;\n",
       "    }\n",
       "\n",
       "    .dataframe thead th {\n",
       "        text-align: right;\n",
       "    }\n",
       "</style>\n",
       "<table border=\"1\" class=\"dataframe\">\n",
       "  <thead>\n",
       "    <tr style=\"text-align: right;\">\n",
       "      <th></th>\n",
       "      <th>0</th>\n",
       "      <th>1</th>\n",
       "    </tr>\n",
       "  </thead>\n",
       "  <tbody>\n",
       "    <tr>\n",
       "      <th>0</th>\n",
       "      <td>(let, every, man, remind, descendants, also, s...</td>\n",
       "      <td>Plato</td>\n",
       "    </tr>\n",
       "    <tr>\n",
       "      <th>1</th>\n",
       "      <td>(one, neither, men, gods, friendly, either, ea...</td>\n",
       "      <td>Plato</td>\n",
       "    </tr>\n",
       "    <tr>\n",
       "      <th>2</th>\n",
       "      <td>(last, constant, absorbing, aim, exceed, possi...</td>\n",
       "      <td>Plato</td>\n",
       "    </tr>\n",
       "    <tr>\n",
       "      <th>3</th>\n",
       "      <td>(excel, virtue, brings, us, shame, excelled, s...</td>\n",
       "      <td>Plato</td>\n",
       "    </tr>\n",
       "    <tr>\n",
       "      <th>4</th>\n",
       "      <td>(nothing, dishonourable, honoured, sake, accou...</td>\n",
       "      <td>Plato</td>\n",
       "    </tr>\n",
       "  </tbody>\n",
       "</table>\n",
       "</div>"
      ],
      "text/plain": [
       "                                                   0      1\n",
       "0  (let, every, man, remind, descendants, also, s...  Plato\n",
       "1  (one, neither, men, gods, friendly, either, ea...  Plato\n",
       "2  (last, constant, absorbing, aim, exceed, possi...  Plato\n",
       "3  (excel, virtue, brings, us, shame, excelled, s...  Plato\n",
       "4  (nothing, dishonourable, honoured, sake, accou...  Plato"
      ]
     },
     "execution_count": 37,
     "metadata": {},
     "output_type": "execute_result"
    }
   ],
   "source": [
    "sentences.head()"
   ]
  },
  {
   "cell_type": "code",
   "execution_count": 38,
   "metadata": {},
   "outputs": [],
   "source": [
    "# Creates a data frame with features for each word in our common word set.\n",
    "# Each value is the count of the times the word appears in each sentence.\n",
    "def bow_features(sentences, common_words):\n",
    "    \n",
    "    # Scaffold the data frame and initialize counts to zero.\n",
    "    df = pd.DataFrame(columns=common_words)\n",
    "    df['text_sentence'] = sentences[0]\n",
    "    df['text_source'] = sentences[1]\n",
    "    df.loc[:, common_words] = 0\n",
    "    \n",
    "    # Process each row, counting the occurrence of words in each sentence.\n",
    "    for i, sentence in enumerate(df['text_sentence']):\n",
    "        \n",
    "        # Convert the sentence to lemmas, then filter out punctuation,\n",
    "        # stop words, and uncommon words.\n",
    "        words = [token.lemma_\n",
    "                 for token in sentence\n",
    "                 if (\n",
    "                     not token.is_punct\n",
    "                     and not token.is_stop\n",
    "                     and token.lemma_ in common_words\n",
    "                 )]\n",
    "        \n",
    "        # Populate the row with word counts.\n",
    "        for word in words:\n",
    "            df.loc[i, word] += 1\n",
    "        \n",
    "        # This counter is just to make sure the kernel didn't hang.\n",
    "        if i % 500 == 0:\n",
    "            print(\"Processing row {}\".format(i))\n",
    "            \n",
    "    return df"
   ]
  },
  {
   "cell_type": "code",
   "execution_count": 39,
   "metadata": {
    "scrolled": true
   },
   "outputs": [
    {
     "name": "stdout",
     "output_type": "stream",
     "text": [
      "652\n",
      "543\n",
      "618\n",
      "1394\n",
      "1128\n",
      "901\n",
      "937\n",
      "719\n",
      "671\n",
      "949\n"
     ]
    }
   ],
   "source": [
    "authors_words = [plato_words, freud_words, socrates_words, nietzsche_words, descartes_words, kant_words, \n",
    "                 hume_words, russell_words, locke_words, chomsky_words]\n",
    "\n",
    "for i in authors_words:\n",
    "    print(len(i))"
   ]
  },
  {
   "cell_type": "code",
   "execution_count": 40,
   "metadata": {},
   "outputs": [
    {
     "data": {
      "text/plain": [
       "4790"
      ]
     },
     "execution_count": 40,
     "metadata": {},
     "output_type": "execute_result"
    }
   ],
   "source": [
    "# Combine bags to create a set of unique words.\n",
    "common_words = set(plato_words + freud_words + socrates_words + nietzsche_words + descartes_words + kant_words + \n",
    "                 hume_words + russell_words + locke_words + chomsky_words)\n",
    "\n",
    "# How many words we got?\n",
    "len(common_words)"
   ]
  },
  {
   "cell_type": "code",
   "execution_count": 37,
   "metadata": {
    "scrolled": true
   },
   "outputs": [
    {
     "name": "stdout",
     "output_type": "stream",
     "text": [
      "Processing row 0\n",
      "Processing row 500\n"
     ]
    },
    {
     "data": {
      "text/html": [
       "<div>\n",
       "<style scoped>\n",
       "    .dataframe tbody tr th:only-of-type {\n",
       "        vertical-align: middle;\n",
       "    }\n",
       "\n",
       "    .dataframe tbody tr th {\n",
       "        vertical-align: top;\n",
       "    }\n",
       "\n",
       "    .dataframe thead th {\n",
       "        text-align: right;\n",
       "    }\n",
       "</style>\n",
       "<table border=\"1\" class=\"dataframe\">\n",
       "  <thead>\n",
       "    <tr style=\"text-align: right;\">\n",
       "      <th></th>\n",
       "      <th>take</th>\n",
       "      <th>restrain</th>\n",
       "      <th>kunst</th>\n",
       "      <th>advancement</th>\n",
       "      <th>cultivation</th>\n",
       "      <th>effectively</th>\n",
       "      <th>dependent</th>\n",
       "      <th>helicopter</th>\n",
       "      <th>phenomenon</th>\n",
       "      <th>fade</th>\n",
       "      <th>...</th>\n",
       "      <th>help</th>\n",
       "      <th>turkey</th>\n",
       "      <th>touch</th>\n",
       "      <th>pound</th>\n",
       "      <th>north</th>\n",
       "      <th>recognize</th>\n",
       "      <th>david</th>\n",
       "      <th>nde</th>\n",
       "      <th>text_sentence</th>\n",
       "      <th>text_source</th>\n",
       "    </tr>\n",
       "  </thead>\n",
       "  <tbody>\n",
       "    <tr>\n",
       "      <th>0</th>\n",
       "      <td>0</td>\n",
       "      <td>0</td>\n",
       "      <td>0</td>\n",
       "      <td>0</td>\n",
       "      <td>0</td>\n",
       "      <td>0</td>\n",
       "      <td>0</td>\n",
       "      <td>0</td>\n",
       "      <td>0</td>\n",
       "      <td>0</td>\n",
       "      <td>...</td>\n",
       "      <td>0</td>\n",
       "      <td>0</td>\n",
       "      <td>0</td>\n",
       "      <td>0</td>\n",
       "      <td>0</td>\n",
       "      <td>0</td>\n",
       "      <td>0</td>\n",
       "      <td>0</td>\n",
       "      <td>(let, every, man, remind, descendants, also, s...</td>\n",
       "      <td>Plato</td>\n",
       "    </tr>\n",
       "    <tr>\n",
       "      <th>1</th>\n",
       "      <td>0</td>\n",
       "      <td>0</td>\n",
       "      <td>0</td>\n",
       "      <td>0</td>\n",
       "      <td>0</td>\n",
       "      <td>0</td>\n",
       "      <td>0</td>\n",
       "      <td>0</td>\n",
       "      <td>0</td>\n",
       "      <td>0</td>\n",
       "      <td>...</td>\n",
       "      <td>0</td>\n",
       "      <td>0</td>\n",
       "      <td>0</td>\n",
       "      <td>0</td>\n",
       "      <td>0</td>\n",
       "      <td>0</td>\n",
       "      <td>0</td>\n",
       "      <td>0</td>\n",
       "      <td>(one, neither, men, gods, friendly, either, ea...</td>\n",
       "      <td>Plato</td>\n",
       "    </tr>\n",
       "    <tr>\n",
       "      <th>2</th>\n",
       "      <td>0</td>\n",
       "      <td>0</td>\n",
       "      <td>0</td>\n",
       "      <td>0</td>\n",
       "      <td>0</td>\n",
       "      <td>0</td>\n",
       "      <td>0</td>\n",
       "      <td>0</td>\n",
       "      <td>0</td>\n",
       "      <td>0</td>\n",
       "      <td>...</td>\n",
       "      <td>0</td>\n",
       "      <td>0</td>\n",
       "      <td>0</td>\n",
       "      <td>0</td>\n",
       "      <td>0</td>\n",
       "      <td>0</td>\n",
       "      <td>0</td>\n",
       "      <td>0</td>\n",
       "      <td>(last, constant, absorbing, aim, exceed, possi...</td>\n",
       "      <td>Plato</td>\n",
       "    </tr>\n",
       "    <tr>\n",
       "      <th>3</th>\n",
       "      <td>0</td>\n",
       "      <td>0</td>\n",
       "      <td>0</td>\n",
       "      <td>0</td>\n",
       "      <td>0</td>\n",
       "      <td>0</td>\n",
       "      <td>0</td>\n",
       "      <td>0</td>\n",
       "      <td>0</td>\n",
       "      <td>0</td>\n",
       "      <td>...</td>\n",
       "      <td>0</td>\n",
       "      <td>0</td>\n",
       "      <td>0</td>\n",
       "      <td>0</td>\n",
       "      <td>0</td>\n",
       "      <td>0</td>\n",
       "      <td>0</td>\n",
       "      <td>0</td>\n",
       "      <td>(excel, virtue, brings, us, shame, excelled, s...</td>\n",
       "      <td>Plato</td>\n",
       "    </tr>\n",
       "    <tr>\n",
       "      <th>4</th>\n",
       "      <td>0</td>\n",
       "      <td>0</td>\n",
       "      <td>0</td>\n",
       "      <td>0</td>\n",
       "      <td>0</td>\n",
       "      <td>0</td>\n",
       "      <td>0</td>\n",
       "      <td>0</td>\n",
       "      <td>0</td>\n",
       "      <td>0</td>\n",
       "      <td>...</td>\n",
       "      <td>0</td>\n",
       "      <td>0</td>\n",
       "      <td>0</td>\n",
       "      <td>0</td>\n",
       "      <td>0</td>\n",
       "      <td>0</td>\n",
       "      <td>0</td>\n",
       "      <td>0</td>\n",
       "      <td>(nothing, dishonourable, honoured, sake, accou...</td>\n",
       "      <td>Plato</td>\n",
       "    </tr>\n",
       "  </tbody>\n",
       "</table>\n",
       "<p>5 rows × 4792 columns</p>\n",
       "</div>"
      ],
      "text/plain": [
       "  take restrain kunst advancement cultivation effectively dependent  \\\n",
       "0    0        0     0           0           0           0         0   \n",
       "1    0        0     0           0           0           0         0   \n",
       "2    0        0     0           0           0           0         0   \n",
       "3    0        0     0           0           0           0         0   \n",
       "4    0        0     0           0           0           0         0   \n",
       "\n",
       "  helicopter phenomenon fade     ...     help turkey touch pound north  \\\n",
       "0          0          0    0     ...        0      0     0     0     0   \n",
       "1          0          0    0     ...        0      0     0     0     0   \n",
       "2          0          0    0     ...        0      0     0     0     0   \n",
       "3          0          0    0     ...        0      0     0     0     0   \n",
       "4          0          0    0     ...        0      0     0     0     0   \n",
       "\n",
       "  recognize david nde                                      text_sentence  \\\n",
       "0         0     0   0  (let, every, man, remind, descendants, also, s...   \n",
       "1         0     0   0  (one, neither, men, gods, friendly, either, ea...   \n",
       "2         0     0   0  (last, constant, absorbing, aim, exceed, possi...   \n",
       "3         0     0   0  (excel, virtue, brings, us, shame, excelled, s...   \n",
       "4         0     0   0  (nothing, dishonourable, honoured, sake, accou...   \n",
       "\n",
       "  text_source  \n",
       "0       Plato  \n",
       "1       Plato  \n",
       "2       Plato  \n",
       "3       Plato  \n",
       "4       Plato  \n",
       "\n",
       "[5 rows x 4792 columns]"
      ]
     },
     "execution_count": 37,
     "metadata": {},
     "output_type": "execute_result"
    }
   ],
   "source": [
    "# Create our data frame with features. This can take a while to run.\n",
    "#word_counts = bow_features(sentences, common_words)\n",
    "#word_counts.head()"
   ]
  },
  {
   "cell_type": "code",
   "execution_count": 144,
   "metadata": {},
   "outputs": [],
   "source": [
    "#Download word_counts dataframe and save as csv file\n",
    "\n",
    "#word_counts.to_csv(\"bow.csv\",index=False)\n",
    "\n",
    "df_bow = pd.read_csv('bow.csv', sep=',')\n",
    "#df_bow.head()"
   ]
  },
  {
   "cell_type": "code",
   "execution_count": 43,
   "metadata": {},
   "outputs": [],
   "source": [
    "X_bow = df_bow.drop(['text_sentence','text_source'],axis=1)\n",
    "Y_bow = df_bow['text_source']"
   ]
  },
  {
   "cell_type": "code",
   "execution_count": 44,
   "metadata": {},
   "outputs": [],
   "source": [
    "#splitting into training and test sets. Reserving 25% of my corpus as a test set.\n",
    "X_train_bow, X_test_bow, Y_train_bow, Y_test_bow = train_test_split(X_bow, \n",
    "                                                                Y_bow,\n",
    "                                                                test_size=0.25,\n",
    "                                                                random_state=0)"
   ]
  },
  {
   "cell_type": "markdown",
   "metadata": {},
   "source": [
    "# Bag of Words Cluster Analysis\n",
    "- Investigating K-means, Mean Shift, Spectral Clustering, Afinity Propogation unsupervised clustering methods on the Bag of Words textual processing."
   ]
  },
  {
   "cell_type": "markdown",
   "metadata": {},
   "source": [
    "## Dimensionality Reduction"
   ]
  },
  {
   "cell_type": "code",
   "execution_count": 45,
   "metadata": {},
   "outputs": [
    {
     "name": "stdout",
     "output_type": "stream",
     "text": [
      "200\n",
      "Percent variance captured by all components: 87.98856253774599\n",
      "300\n",
      "Percent variance captured by all components: 95.06603486565895\n",
      "400\n",
      "Percent variance captured by all components: 98.45850909843944\n",
      "500\n",
      "Percent variance captured by all components: 99.86593223553137\n",
      "600\n",
      "Percent variance captured by all components: 100.0\n",
      "700\n",
      "Percent variance captured by all components: 100.00000000000003\n",
      "800\n",
      "Percent variance captured by all components: 100.00000000000003\n",
      "900\n",
      "Percent variance captured by all components: 100.00000000000009\n",
      "1000\n",
      "Percent variance captured by all components: 100.00000000000007\n"
     ]
    }
   ],
   "source": [
    "for i in range(200, 1100, 100):\n",
    "    svd= TruncatedSVD(i)\n",
    "    lsa = make_pipeline(svd, Normalizer(copy=False))\n",
    "    # Run SVD on the training data, then project the training data.\n",
    "    X_train_bow_lsa = lsa.fit_transform(X_train_bow)\n",
    "\n",
    "    variance_explained=svd.explained_variance_ratio_\n",
    "    total_variance = variance_explained.sum()\n",
    "    print(i)\n",
    "    print(\"Percent variance captured by all components:\",total_variance*100)"
   ]
  },
  {
   "cell_type": "code",
   "execution_count": 46,
   "metadata": {},
   "outputs": [
    {
     "name": "stdout",
     "output_type": "stream",
     "text": [
      "Percent variance captured by all components: 100.00000000000004\n"
     ]
    }
   ],
   "source": [
    "svd= TruncatedSVD(700)\n",
    "lsa = make_pipeline(svd, Normalizer(copy=False))\n",
    "# Run SVD on the training data, then project the training data.\n",
    "X_train_bow_lsa = lsa.fit_transform(X_train_bow)\n",
    "X_test_bow_lsa = lsa.transform(X_test_bow)\n",
    "\n",
    "variance_explained=svd.explained_variance_ratio_\n",
    "total_variance = variance_explained.sum()\n",
    "print(\"Percent variance captured by all components:\",total_variance*100)"
   ]
  },
  {
   "cell_type": "markdown",
   "metadata": {},
   "source": [
    "# K Means"
   ]
  },
  {
   "cell_type": "code",
   "execution_count": 50,
   "metadata": {},
   "outputs": [
    {
     "data": {
      "image/png": "[encoded data removed]",
      "text/plain": [
       "<Figure size 432x288 with 1 Axes>"
      ]
     },
     "metadata": {},
     "output_type": "display_data"
    }
   ],
   "source": [
    "# Use the elbow method to see what is the optimal amount of clusters.\n",
    "\n",
    "# k means determine k\n",
    "distortions = []\n",
    "K = range(1,20)\n",
    "for k in K:\n",
    "    kmeanModel = KMeans(n_clusters=k).fit(X_train_bow_lsa)\n",
    "    kmeanModel.fit(X_train_bow_lsa)\n",
    "    distortions.append(sum(np.min(cdist(X_train_bow_lsa, kmeanModel.cluster_centers_, 'euclidean'), \n",
    "                                  axis=1)) / X_train_bow_lsa.shape[0])\n",
    "\n",
    "# Plot the elbow\n",
    "sns.set_style('darkgrid')\n",
    "plt.plot(K, distortions, 'bx-')\n",
    "plt.xlabel('k')\n",
    "plt.ylabel('Distortion')\n",
    "plt.title('The Elbow Method showing the optimal k')\n",
    "plt.show()"
   ]
  },
  {
   "cell_type": "code",
   "execution_count": 51,
   "metadata": {},
   "outputs": [],
   "source": [
    "# Normalize the data.\n",
    "X_bow_norm = normalize(X_train_bow_lsa)\n",
    "\n",
    "# Reduce it to two components.\n",
    "X_bow_pca = PCA(2).fit_transform(X_bow_norm)"
   ]
  },
  {
   "cell_type": "code",
   "execution_count": 52,
   "metadata": {},
   "outputs": [
    {
     "data": {
      "image/png": "[encoded data removed]",
      "text/plain": [
       "<Figure size 432x288 with 1 Axes>"
      ]
     },
     "metadata": {},
     "output_type": "display_data"
    },
    {
     "name": "stdout",
     "output_type": "stream",
     "text": [
      "Comparing K-Means Clusters Against the Data:\n",
      "col_0         0   1   2\n",
      "text_source            \n",
      "Chomsky      33   2   0\n",
      "Descartes    53   0   0\n",
      "Freud        23   3   4\n",
      "Hume         44   8   0\n",
      "Kant         41   4   3\n",
      "Locke        21  13   0\n",
      "Nietzsche    56   6  97\n",
      "Plato        29   6   0\n",
      "Russell      40   4   0\n",
      "Socrates     25  25   1\n"
     ]
    },
    {
     "data": {
      "image/png": "[encoded data removed]",
      "text/plain": [
       "<Figure size 432x288 with 1 Axes>"
      ]
     },
     "metadata": {},
     "output_type": "display_data"
    },
    {
     "name": "stdout",
     "output_type": "stream",
     "text": [
      "Comparing K-Means Clusters Against the Data:\n",
      "col_0         0  1   2   3   4   5   6  7  8   9\n",
      "text_source                                     \n",
      "Chomsky      13  1   0   0   5   1   0  0  0  15\n",
      "Descartes    13  0   0   0  22   0   0  0  0  18\n",
      "Freud        13  2   0   1   1   0   3  1  0   9\n",
      "Hume         21  5   0   0   6   0   0  1  6  13\n",
      "Kant         15  1   0   2   7   1   1  0  3  18\n",
      "Locke        13  3   0   0   3   5   0  0  5   5\n",
      "Nietzsche    38  4  28  37   2   0  40  1  3   6\n",
      "Plato        10  3   0   0   7   2   0  0  4   9\n",
      "Russell      11  2   0   0  11   1   0  0  2  17\n",
      "Socrates      8  6   0   0   4  12   1  2  9   9\n"
     ]
    }
   ],
   "source": [
    "K_values = [3,10]\n",
    "for i in K_values: \n",
    "    y_pred = KMeans(n_clusters=i, random_state=42).fit_predict(X_bow_pca)\n",
    "    estimator = KMeans(n_clusters=i, random_state=42).fit(X_bow_pca)\n",
    "    centers = estimator.cluster_centers_\n",
    "    \n",
    "    # Plot the solution.\n",
    "    plt.scatter(X_bow_pca[:, 0], X_bow_pca[:, 1], c = y_pred, cmap='viridis')\n",
    "    plt.scatter(centers[:, 0], centers[:, 1], c='r', s=200, alpha=0.5);\n",
    "    plt.title('K-Means Clusters: k = {}'.format(i))\n",
    "    plt.show()\n",
    "\n",
    "    # Check the solution against the data.\n",
    "    print('Comparing K-Means Clusters Against the Data:')\n",
    "    print(pd.crosstab(Y_train_bow, y_pred))"
   ]
  },
  {
   "cell_type": "code",
   "execution_count": 53,
   "metadata": {
    "scrolled": false
   },
   "outputs": [
    {
     "name": "stdout",
     "output_type": "stream",
     "text": [
      "3 Clusters:\n",
      "Adjusted Rand Score: 0.04481989\n",
      "Silhouette Score: 0.0106454\n",
      "\n",
      "\n",
      "10 Clusters:\n",
      "Adjusted Rand Score: 0.0261531\n",
      "Silhouette Score: 0.009398335\n",
      "\n",
      "\n"
     ]
    }
   ],
   "source": [
    "# Evaluate the performance of the clusters\n",
    "K_values = [3,10]\n",
    "\n",
    "for i in K_values: \n",
    "    \n",
    "    km = KMeans(n_clusters=i, random_state=42).fit(X_train_bow_lsa).fit(X_train_bow_lsa)\n",
    "    \n",
    "    y_pred_kmeans = km.predict(X_train_bow_lsa)\n",
    "    \n",
    "    order_centroids = km.cluster_centers_.argsort()[:, ::-1]\n",
    "    \n",
    "    print('{} Clusters:'.format(i))\n",
    "    print('Adjusted Rand Score: {:0.7}'.format(adjusted_rand_score(Y_train_bow, y_pred_kmeans)))\n",
    "    print('Silhouette Score: {:0.7}'.format(silhouette_score(X_train_bow_lsa, y_pred_kmeans, metric='euclidean')))\n",
    "    print('\\n')"
   ]
  },
  {
   "cell_type": "markdown",
   "metadata": {},
   "source": [
    "- Similar to the Tf-idf, K-means clustering applied to the BoW data did not return consistent clustering."
   ]
  },
  {
   "cell_type": "code",
   "execution_count": 89,
   "metadata": {
    "scrolled": true
   },
   "outputs": [
    {
     "name": "stdout",
     "output_type": "stream",
     "text": [
      "Cluster 0:\n",
      " abandon\n",
      " background\n",
      " achieving\n",
      " afraid\n",
      " amusement\n",
      " aggression\n",
      " actuality\n",
      " appeared\n",
      " affect\n",
      " convention\n",
      "Cluster 1:\n",
      " abandon\n",
      " absurd\n",
      " aber\n",
      " able\n",
      " accidental\n",
      " accord\n",
      " abandoned\n",
      " abstract\n",
      " administration\n",
      " achieving\n",
      "Cluster 2:\n",
      " accomplish\n",
      " anti\n",
      " alive\n",
      " aspect\n",
      " assurance\n",
      " asked\n",
      " appeared\n",
      " applies\n",
      " ancestor\n",
      " based\n",
      "Cluster 3:\n",
      " abandon\n",
      " abuse\n",
      " acquired\n",
      " appreciation\n",
      " affair\n",
      " acting\n",
      " affection\n",
      " arrived\n",
      " abstracted\n",
      " advance\n",
      "Cluster 4:\n",
      " abandon\n",
      " achieve\n",
      " accept\n",
      " accepts\n",
      " accordance\n",
      " accordingly\n",
      " acceptance\n",
      " affirm\n",
      " agent\n",
      " adequate\n",
      "Cluster 5:\n",
      " abandon\n",
      " acquiring\n",
      " actual\n",
      " addition\n",
      " angle\n",
      " accord\n",
      " accepting\n",
      " acquainted\n",
      " angry\n",
      " antagonist\n",
      "Cluster 6:\n",
      " accomplish\n",
      " accomplished\n",
      " according\n",
      " account\n",
      " adequate\n",
      " afraid\n",
      " accordance\n",
      " administration\n",
      " addition\n",
      " angry\n",
      "Cluster 7:\n",
      " accomplish\n",
      " adjust\n",
      " adequately\n",
      " accomplished\n",
      " actuality\n",
      " affirm\n",
      " added\n",
      " abuse\n",
      " acceptance\n",
      " according\n",
      "Cluster 8:\n",
      " abandon\n",
      " accomplished\n",
      " abuse\n",
      " acceptable\n",
      " ability\n",
      " admonished\n",
      " absolute\n",
      " actual\n",
      " aggressiveness\n",
      " aim\n",
      "Cluster 9:\n",
      " accomplish\n",
      " advised\n",
      " advice\n",
      " advancement\n",
      " accomplished\n",
      " applause\n",
      " attention\n",
      " according\n",
      " anger\n",
      " animal\n"
     ]
    }
   ],
   "source": [
    "km = KMeans(n_clusters=10, random_state=42).fit(X_train_bow_lsa)\n",
    "order_centroids = km.cluster_centers_.argsort()[:, ::-1]\n",
    "terms = vectorizer.get_feature_names()\n",
    "for i in range(10):\n",
    "    print(\"Cluster %d:\" % i)\n",
    "    for ind in order_centroids[i, :10]:\n",
    "        print(' %s' % terms[ind])"
   ]
  },
  {
   "cell_type": "markdown",
   "metadata": {},
   "source": [
    "- We seem multiple instances from the K-means method where specific words were grouped in multiple clusters."
   ]
  },
  {
   "cell_type": "code",
   "execution_count": 100,
   "metadata": {
    "scrolled": false
   },
   "outputs": [
    {
     "data": {
      "image/png": "[encoded data removed]",
      "text/plain": [
       "<Figure size 1620x360 with 3 Axes>"
      ]
     },
     "metadata": {
      "needs_background": "light"
     },
     "output_type": "display_data"
    }
   ],
   "source": [
    "y_pred = KMeans(n_clusters=3, random_state=42).fit_predict(X_bow)\n",
    "\n",
    "df_bow2 = df_bow.copy()\n",
    "df_bow2['cluster'] = y_pred\n",
    "\n",
    "g = sns.factorplot(\"text_source\", col=\"cluster\", col_wrap=3,data=df_bow2,kind=\"count\", aspect=1.5)\n",
    "g.set_xticklabels(rotation=30)\n",
    "plt.subplots_adjust(top=0.8)\n",
    "plt.suptitle('Persons Counts by Cluster', fontsize=26)\n",
    "plt.show()"
   ]
  },
  {
   "cell_type": "markdown",
   "metadata": {},
   "source": [
    "- From K-means cluster value of 3, we see a overwhelming allocation of all persons of interest into one cluster."
   ]
  },
  {
   "cell_type": "markdown",
   "metadata": {},
   "source": [
    "## Mean Shift"
   ]
  },
  {
   "cell_type": "code",
   "execution_count": 55,
   "metadata": {
    "scrolled": true
   },
   "outputs": [
    {
     "name": "stdout",
     "output_type": "stream",
     "text": [
      "Number of estimated clusters: 1\n",
      "\n",
      "Adjusted Rand Score: 0.0\n",
      "\n",
      "Comparing the assigned categories to the ones in the data:\n",
      "col_0          0\n",
      "text_source     \n",
      "Chomsky       35\n",
      "Descartes     53\n",
      "Freud         30\n",
      "Hume          52\n",
      "Kant          48\n",
      "Locke         34\n",
      "Nietzsche    159\n",
      "Plato         35\n",
      "Russell       44\n",
      "Socrates      51\n"
     ]
    }
   ],
   "source": [
    "# Here we set the bandwidth. This function automatically derives a bandwidth\n",
    "# number based on an inspection of the distances among points in the data.\n",
    "bandwidth = estimate_bandwidth(X_train_bow_lsa, quantile=0.2, n_samples=500)\n",
    "\n",
    "# Declare and fit the model.\n",
    "ms = MeanShift(bandwidth=bandwidth, bin_seeding=True)\n",
    "ms.fit(X_train_bow_lsa)\n",
    "\n",
    "# Extract cluster assignments for each data point.\n",
    "labels = ms.labels_\n",
    "\n",
    "y_pred_mean2 = ms.fit_predict(X_train_bow_lsa)\n",
    "\n",
    "# Coordinates of the cluster centers.\n",
    "#cluster_centers = ms.cluster_centers_\n",
    "\n",
    "# Count our clusters.\n",
    "n_clusters_ = len(np.unique(labels))\n",
    "\n",
    "print(\"Number of estimated clusters: {}\\n\".format(n_clusters_))\n",
    "\n",
    "print('Adjusted Rand Score: {:0.7}\\n'.format(adjusted_rand_score(Y_train_bow, y_pred_mean2)))\n",
    "\n",
    "print('Comparing the assigned categories to the ones in the data:')\n",
    "print(pd.crosstab(Y_train_bow,labels))"
   ]
  },
  {
   "cell_type": "markdown",
   "metadata": {},
   "source": [
    "- Again, applying Mean Shift estimates only one cluster and thusly does not score well on the Adjusted Rand Index."
   ]
  },
  {
   "cell_type": "markdown",
   "metadata": {},
   "source": [
    "## Spectral Clustering"
   ]
  },
  {
   "cell_type": "code",
   "execution_count": 58,
   "metadata": {
    "scrolled": true
   },
   "outputs": [
    {
     "name": "stdout",
     "output_type": "stream",
     "text": [
      "Adjusted Rand Score: 0.003569671\n",
      "Silhouette Score: 0.01240523\n",
      "\n",
      "Comparing the assigned categories to the ones in the data:\n",
      "col_0        0   1   2   3   4   5  6  7   8  9\n",
      "text_source                                    \n",
      "Chomsky      1  23   0   0   0   2  0  0   9  0\n",
      "Descartes    0  26   0   0   0   0  0  0  27  0\n",
      "Freud        0  24   0   1   1   2  0  0   0  2\n",
      "Hume         0  34   0   0   0   5  0  0  13  0\n",
      "Kant         6  26   0   1   0   2  1  1  11  0\n",
      "Locke        0  16   0   0   0   8  0  0  10  0\n",
      "Nietzsche    0  75  14  28  16   4  0  8   5  9\n",
      "Plato        7  18   0   0   0   6  0  0   4  0\n",
      "Russell      0  24   0   0   0   3  0  0  17  0\n",
      "Socrates     0  18   0   0   1  20  2  0  10  0\n"
     ]
    }
   ],
   "source": [
    "# Pick the number of clusters.\n",
    "n_clusters= 10\n",
    "\n",
    "# Initialize the model.\n",
    "sc = SpectralClustering(n_clusters=n_clusters)\n",
    "\n",
    "# Fit and predict the model.\n",
    "y_pred_spectral2 = sc.fit_predict(X_train_bow_lsa)\n",
    "\n",
    "print('Adjusted Rand Score: {:0.7}'.format(adjusted_rand_score(Y_train_bow, y_pred_spectral2)))\n",
    "print('Silhouette Score: {:0.7}\\n'.format(silhouette_score(X_train_bow_lsa, y_pred_spectral2, metric='euclidean')))\n",
    "\n",
    "print('Comparing the assigned categories to the ones in the data:')\n",
    "print(pd.crosstab(Y_train_bow,y_pred_spectral2))"
   ]
  },
  {
   "cell_type": "markdown",
   "metadata": {},
   "source": [
    "- Still better than the Mean Shift method, the Spectral Clustering algorithm did not achieve an improvement to overall clustering consistency."
   ]
  },
  {
   "cell_type": "markdown",
   "metadata": {},
   "source": [
    "## Affinity Propogation"
   ]
  },
  {
   "cell_type": "code",
   "execution_count": 59,
   "metadata": {
    "scrolled": false
   },
   "outputs": [
    {
     "name": "stdout",
     "output_type": "stream",
     "text": [
      "Adjusted Rand Score: 0.05347666\n",
      "Silhouette Score: 0.03557334\n",
      "\n",
      "Comparing the assigned categories to the ones in the data:\n",
      "col_0        0   1   2   3   4   5   6   7   8   9  ...  68  69  70  71  72  \\\n",
      "text_source                                         ...                       \n",
      "Chomsky       0   0   3   0   1   0   0   0   0   0 ...   0   0   0   1   0   \n",
      "Descartes     0   0   0   0   0   0   0   0   0   0 ...   1   2   0   7   0   \n",
      "Freud         0   0   0   0   1   2   1   1   1   0 ...   0   0   0   0   0   \n",
      "Hume          4   0   0   1   0   0   0   0   0   0 ...   1   0   0   0   0   \n",
      "Kant          1   0   0   1   0   0   0   1   1   0 ...   0   1   0   0   1   \n",
      "Locke         0   1   0   0   0   0   0   0   0   0 ...   3   0   0   0   0   \n",
      "Nietzsche     0   0   0   1   0   5  11   9   0   9 ...   2   0   0   0   3   \n",
      "Plato         0   2   0   0   1   0   0   0   0   0 ...   0   0   4   0   0   \n",
      "Russell       1   1   0   0   0   0   0   0   0   0 ...   3   2   1   0   0   \n",
      "Socrates      0   0   0   1   1   0   0   0   0   0 ...   2   0   0   0   0   \n",
      "\n",
      "col_0        73  74  75  76  77  \n",
      "text_source                      \n",
      "Chomsky       0   1   0   1   0  \n",
      "Descartes     0   1   0   2   1  \n",
      "Freud         0   0   2   0   4  \n",
      "Hume          0   1   0   1   0  \n",
      "Kant          1   0   1   6   1  \n",
      "Locke         0   0   1   1   0  \n",
      "Nietzsche     6   0   1   1   0  \n",
      "Plato         0   1   0   0   0  \n",
      "Russell       0   0   0   2   0  \n",
      "Socrates      0   0   0   1   1  \n",
      "\n",
      "[10 rows x 78 columns]\n"
     ]
    }
   ],
   "source": [
    "af = AffinityPropagation().fit(X_train_bow_lsa)\n",
    "\n",
    "y_pred_affinity2 = af.fit_predict(X_train_bow_lsa)\n",
    "\n",
    "print('Adjusted Rand Score: {:0.7}'.format(adjusted_rand_score(Y_train_bow, y_pred_affinity2)))\n",
    "print('Silhouette Score: {:0.7}\\n'.format(silhouette_score(X_train_bow_lsa, y_pred_affinity2, metric='euclidean')))\n",
    "\n",
    "print('Comparing the assigned categories to the ones in the data:')\n",
    "print(pd.crosstab(Y_train_bow, y_pred_affinity2))"
   ]
  },
  {
   "cell_type": "markdown",
   "metadata": {},
   "source": [
    "- Affinity Progation estimates 78 clusters in the Bag of Words data. There is no discernable clustering pattern by person of interest."
   ]
  },
  {
   "cell_type": "code",
   "execution_count": 60,
   "metadata": {
    "scrolled": true
   },
   "outputs": [
    {
     "name": "stdout",
     "output_type": "stream",
     "text": [
      "Cluster 0:\n",
      " comprehend\n",
      " complicated\n",
      " complete\n",
      " completely\n",
      " common\n",
      " compounded\n",
      " affirmation\n",
      " compared\n",
      " correction\n",
      " cognitive\n",
      "Cluster 1:\n",
      " absurdity\n",
      " acceptance\n",
      " absurd\n",
      " acceptable\n",
      " abstract\n",
      " abstruse\n",
      " abandon\n",
      " accord\n",
      " accordingly\n",
      " according\n",
      "Cluster 2:\n",
      " alles\n",
      " aggressiveness\n",
      " age\n",
      " allowed\n",
      " ancient\n",
      " agreed\n",
      " argue\n",
      " admitting\n",
      " acquiring\n",
      " arise\n",
      "Cluster 3:\n",
      " considered\n",
      " consider\n",
      " compared\n",
      " colour\n",
      " come\n",
      " build\n",
      " book\n",
      " broader\n",
      " appreciation\n",
      " confused\n",
      "Cluster 4:\n",
      " athenian\n",
      " beneath\n",
      " banquet\n",
      " approach\n",
      " attends\n",
      " barrier\n",
      " appreciation\n",
      " attained\n",
      " behalf\n",
      " blind\n",
      "Cluster 5:\n",
      " altogether\n",
      " america\n",
      " accomplish\n",
      " air\n",
      " afraid\n",
      " applies\n",
      " bright\n",
      " al\n",
      " anderen\n",
      " allows\n",
      "Cluster 6:\n",
      " accomplish\n",
      " crawl\n",
      " afraid\n",
      " advised\n",
      " agree\n",
      " aggressiveness\n",
      " amazing\n",
      " course\n",
      " ascribe\n",
      " angry\n",
      "Cluster 7:\n",
      " corruption\n",
      " creation\n",
      " argued\n",
      " applies\n",
      " arises\n",
      " altogether\n",
      " america\n",
      " appeared\n",
      " angry\n",
      " applied\n",
      "Cluster 8:\n",
      " contains\n",
      " contemplates\n",
      " contemplation\n",
      " content\n",
      " colour\n",
      " contempt\n",
      " commandment\n",
      " coming\n",
      " concerned\n",
      " combination\n",
      "Cluster 9:\n",
      " continuous\n",
      " anti\n",
      " attention\n",
      " ancestor\n",
      " continuously\n",
      " area\n",
      " arithmetic\n",
      " applies\n",
      " cautious\n",
      " advised\n"
     ]
    }
   ],
   "source": [
    "order_centroids = af.cluster_centers_.argsort()[:, ::-1]\n",
    "terms = vectorizer.get_feature_names()\n",
    "for i in range(10):\n",
    "    print(\"Cluster %d:\" % i)\n",
    "    for ind in order_centroids[i, :10]:\n",
    "        print(' %s' % terms[ind])"
   ]
  },
  {
   "cell_type": "markdown",
   "metadata": {},
   "source": [
    "- However in this instance, Affinity Propogation does seem to have less clusters with shared terms."
   ]
  },
  {
   "cell_type": "markdown",
   "metadata": {},
   "source": [
    "- Overall, unsupervised clustering on the Bag of Words data did not return consistent patterns of authorship classification."
   ]
  },
  {
   "cell_type": "markdown",
   "metadata": {},
   "source": [
    "# Supervised Learning Classification Models\n",
    "- Investigating classification models such as the Random Forest model, Logistic Regression, and the Gradient Boosting algorithm on the Tf-idf and Bag of Words data."
   ]
  },
  {
   "cell_type": "markdown",
   "metadata": {},
   "source": [
    "## Random Forest\n",
    "- A random forest is a meta estimator that fits a number of decision tree classifiers on various sub-samples of the dataset and uses averaging to improve the predictive accuracy and control over-fitting."
   ]
  },
  {
   "cell_type": "code",
   "execution_count": 103,
   "metadata": {},
   "outputs": [
    {
     "name": "stdout",
     "output_type": "stream",
     "text": [
      "\n",
      "Tf-idf training set score without clustering:0.19010(+/- 0.098)\n"
     ]
    }
   ],
   "source": [
    "from sklearn.ensemble import RandomForestClassifier\n",
    "\n",
    "# Initialize the random forest model\n",
    "rfc = RandomForestClassifier()\n",
    "\n",
    "# Train and fit the model.\n",
    "train = rfc.fit(X_train_lsa, Y_train)\n",
    "\n",
    "rfc_scores = cross_val_score(rfc, X_train_lsa, Y_train, cv=10)\n",
    "\n",
    "print('\\nTf-idf training set score without clustering:{:.5f}(+/- {:.3f})'.format(rfc_scores.mean(), rfc_scores.std()*2))"
   ]
  },
  {
   "cell_type": "code",
   "execution_count": 104,
   "metadata": {},
   "outputs": [
    {
     "name": "stdout",
     "output_type": "stream",
     "text": [
      "\n",
      "Bag of Words training set score without clustering:0.35957(+/- 0.086)\n"
     ]
    }
   ],
   "source": [
    "# Train and fit the model on BoW data.\n",
    "train = rfc.fit(X_train_bow_lsa, Y_train_bow)\n",
    "\n",
    "rfc_scores = cross_val_score(rfc, X_train_bow_lsa, Y_train_bow, cv=10)\n",
    "\n",
    "print('\\nBag of Words training set score without clustering:{:.5f}(+/- {:.3f})'.format(rfc_scores.mean(), rfc_scores.std()*2))"
   ]
  },
  {
   "cell_type": "code",
   "execution_count": 111,
   "metadata": {
    "scrolled": true
   },
   "outputs": [
    {
     "name": "stdout",
     "output_type": "stream",
     "text": [
      "              precision    recall  f1-score   support\n",
      "\n",
      "     Chomsky       0.20      0.17      0.18        12\n",
      "   Descartes       0.17      0.42      0.24        12\n",
      "       Freud       0.40      0.20      0.27        10\n",
      "        Hume       0.17      0.13      0.15        15\n",
      "        Kant       0.21      0.10      0.14        30\n",
      "       Locke       0.20      0.11      0.14         9\n",
      "   Nietzsche       0.59      0.79      0.67        56\n",
      "       Plato       0.25      0.06      0.10        16\n",
      "     Russell       0.29      0.17      0.21        12\n",
      "    Socrates       0.20      0.44      0.28         9\n",
      "\n",
      "    accuracy                           0.36       181\n",
      "   macro avg       0.27      0.26      0.24       181\n",
      "weighted avg       0.34      0.36      0.33       181\n",
      "\n"
     ]
    }
   ],
   "source": [
    "# Classify, storing the result in a new variable.\n",
    "rfc_pred = rfc.predict(X_test_bow_lsa)\n",
    "\n",
    "# Create a classification report.\n",
    "print(classification_report(Y_test_bow, rfc_pred))"
   ]
  },
  {
   "cell_type": "markdown",
   "metadata": {},
   "source": [
    "- As the Random Forest classifier seemed to perform better applied to the Bag of Words data, investigating the classification report returns low recall scores with a weighted average of .36."
   ]
  },
  {
   "cell_type": "markdown",
   "metadata": {},
   "source": [
    "## Logistic Regression\n",
    "- Used to model the probability of a certain class or event existing such as pass/fail, win/lose. This can be extended to model several classes of events such as determining whether an image contains a cat, dog, lion, etc... Each object being detected in the image would be assigned a probability between 0 and 1 and the sum adding to one."
   ]
  },
  {
   "cell_type": "code",
   "execution_count": 132,
   "metadata": {},
   "outputs": [
    {
     "name": "stdout",
     "output_type": "stream",
     "text": [
      "\n",
      "Tf-idf training set score without clustering:0.60633(+/- 0.072)\n"
     ]
    }
   ],
   "source": [
    "from sklearn.linear_model import LogisticRegression\n",
    "\n",
    "# Initialize the model.\n",
    "lr = LogisticRegression()\n",
    "\n",
    "# Train the model.\n",
    "lr = lr.fit(X_train_lsa, Y_train)\n",
    "\n",
    "# Obtain the cross val score\n",
    "lr_scores = cross_val_score(lr, X_train_lsa, Y_train, cv=5)\n",
    "print('\\nTf-idf training set score without clustering:{:.5f}(+/- {:.3f})'.format(lr_scores.mean(), lr_scores.std()*2))"
   ]
  },
  {
   "cell_type": "code",
   "execution_count": 133,
   "metadata": {},
   "outputs": [
    {
     "name": "stdout",
     "output_type": "stream",
     "text": [
      "\n",
      "Bag of Words training set score without clustering:0.44928(+/- 0.037)\n"
     ]
    }
   ],
   "source": [
    "# Train the model.\n",
    "lr_bow = lr.fit(X_train_bow_lsa, Y_train_bow)\n",
    "\n",
    "# Obtain the cross val score\n",
    "lr_scores = cross_val_score(lr_bow, X_train_bow_lsa, Y_train_bow, cv=5)\n",
    "print('\\nBag of Words training set score without clustering:{:.5f}(+/- {:.3f})'.format(lr_scores.mean(), lr_scores.std()*2))"
   ]
  },
  {
   "cell_type": "code",
   "execution_count": 134,
   "metadata": {
    "scrolled": true
   },
   "outputs": [
    {
     "name": "stdout",
     "output_type": "stream",
     "text": [
      "                     precision    recall  f1-score   support\n",
      "\n",
      "   Bertrand Russell       0.50      0.24      0.32        21\n",
      "         David Hume       0.68      0.79      0.73        19\n",
      "Friedrich Nietzsche       0.93      0.57      0.70        23\n",
      "      Immanuel Kant       0.67      0.42      0.52        19\n",
      "         John Locke       0.45      0.64      0.53        14\n",
      "       Noam Chomsky       0.63      0.75      0.69        16\n",
      "              Plato       0.56      0.24      0.33        21\n",
      "     René Descartes       0.56      0.82      0.67        17\n",
      "      Sigmund Freud       0.42      0.45      0.43        11\n",
      "           Socrates       0.31      0.71      0.43        14\n",
      "\n",
      "           accuracy                           0.55       175\n",
      "          macro avg       0.57      0.56      0.54       175\n",
      "       weighted avg       0.59      0.55      0.54       175\n",
      "\n"
     ]
    }
   ],
   "source": [
    "# Classify, storing the result in a new variable.\n",
    "lr.fit(X_train_lsa, Y_train_tfidf)\n",
    "\n",
    "lr_pred = lr.predict(X_test_lsa)\n",
    "\n",
    "# Create a classification report.\n",
    "print(classification_report(Y_test_tfidf, lr_pred))"
   ]
  },
  {
   "cell_type": "markdown",
   "metadata": {},
   "source": [
    "- Logsitic Regression returns a higher weighted average recall score at .55 on the Tf-idf data."
   ]
  },
  {
   "cell_type": "markdown",
   "metadata": {},
   "source": [
    "# Gradient Boosting\n",
    "- Produces a prediction model in the form of an ensemble of weak prediction models, typically decision trees. It builds the model in a stage-wise fashion like other boosting methods do, and it generalizes them by allowing optimization of an arbitrary differentiable loss function."
   ]
  },
  {
   "cell_type": "code",
   "execution_count": 135,
   "metadata": {},
   "outputs": [
    {
     "name": "stdout",
     "output_type": "stream",
     "text": [
      "\n",
      "Tf-idf training set score without clustering:0.38699(+/- 0.115)\n"
     ]
    }
   ],
   "source": [
    "from sklearn.ensemble import GradientBoostingClassifier\n",
    "\n",
    "clf = GradientBoostingClassifier()\n",
    "\n",
    "clf_tfidf = clf.fit(X_train_lsa, Y_train)\n",
    "\n",
    "clf_scores = cross_val_score(clf_tfidf, X_train_lsa, Y_train, cv=5)\n",
    "print('\\nTf-idf training set score without clustering:{:.5f}(+/- {:.3f})'.format(clf_scores.mean(), clf_scores.std()*2))"
   ]
  },
  {
   "cell_type": "code",
   "execution_count": 136,
   "metadata": {
    "scrolled": true
   },
   "outputs": [
    {
     "name": "stdout",
     "output_type": "stream",
     "text": [
      "\n",
      "Bag of Words training set score without clustering:0.47167(+/- 0.042)\n"
     ]
    }
   ],
   "source": [
    "clf_bow = clf.fit(X_train_bow_lsa, Y_train_bow)\n",
    "\n",
    "clf_scores = cross_val_score(clf_bow, X_train_bow_lsa, Y_train_bow, cv=5)\n",
    "print('\\nBag of Words training set score without clustering:{:.5f}(+/- {:.3f})'.format(clf_scores.mean(), clf_scores.std()*2))"
   ]
  },
  {
   "cell_type": "code",
   "execution_count": 140,
   "metadata": {
    "scrolled": true
   },
   "outputs": [
    {
     "name": "stdout",
     "output_type": "stream",
     "text": [
      "              precision    recall  f1-score   support\n",
      "\n",
      "     Chomsky       0.65      0.92      0.76        12\n",
      "   Descartes       0.43      0.50      0.46        12\n",
      "       Freud       0.00      0.00      0.00        10\n",
      "        Hume       0.62      0.33      0.43        15\n",
      "        Kant       0.33      0.17      0.22        30\n",
      "       Locke       0.00      0.00      0.00         9\n",
      "   Nietzsche       0.69      0.75      0.72        56\n",
      "       Plato       0.33      0.06      0.11        16\n",
      "     Russell       0.18      0.17      0.17        12\n",
      "    Socrates       0.14      0.78      0.24         9\n",
      "\n",
      "    accuracy                           0.44       181\n",
      "   macro avg       0.34      0.37      0.31       181\n",
      "weighted avg       0.44      0.44      0.41       181\n",
      "\n"
     ]
    }
   ],
   "source": [
    "# Classify, storing the result in a new variable.\n",
    "clf_pred = clf_bow.predict(X_test_bow_lsa)\n",
    "\n",
    "# Create a classification report.\n",
    "print(classification_report(Y_test_bow, clf_pred))"
   ]
  },
  {
   "cell_type": "markdown",
   "metadata": {},
   "source": [
    "- Gradient boosting produces a weighted average recall of .44 on the Bag of Words data, lets see if we can improve this with different hyperparameters."
   ]
  },
  {
   "cell_type": "markdown",
   "metadata": {},
   "source": [
    "## Tuning G.B. hyperparameters"
   ]
  },
  {
   "cell_type": "code",
   "execution_count": 63,
   "metadata": {},
   "outputs": [
    {
     "name": "stdout",
     "output_type": "stream",
     "text": [
      "Fitting 5 folds for each of 12 candidates, totalling 60 fits\n"
     ]
    },
    {
     "name": "stderr",
     "output_type": "stream",
     "text": [
      "[Parallel(n_jobs=-1)]: Using backend LokyBackend with 8 concurrent workers.\n",
      "[Parallel(n_jobs=-1)]: Done  34 tasks      | elapsed:  5.1min\n",
      "[Parallel(n_jobs=-1)]: Done  60 out of  60 | elapsed:  9.6min finished\n"
     ]
    },
    {
     "name": "stdout",
     "output_type": "stream",
     "text": [
      "Best Score: 0.4046610169491525\n",
      "Best Parameters: {'loss': 'deviance', 'max_depth': 2, 'max_features': 'auto', 'n_estimators': 50}\n"
     ]
    }
   ],
   "source": [
    "from sklearn.model_selection import GridSearchCV\n",
    "\n",
    "# Set of parameters to test for best score in Grid Search CV\n",
    "clf_params = {'loss':['deviance'],\n",
    "             'max_depth':[2,4,6],\n",
    "             'max_features':['auto'],\n",
    "             'n_estimators':[50,100,200,500]}\n",
    "\n",
    "#fitting model and printing best parameters and score from model\n",
    "grid_clf = GridSearchCV(clf, clf_params, cv=5, verbose=1, n_jobs=-1)\n",
    "grid_clf.fit(X_train_lsa, Y_train)\n",
    "\n",
    "print('Best Score on Tf-idf:', grid_clf.best_score_)\n",
    "best_params_clf = grid_clf.best_params_\n",
    "print('Best Parameters:', best_params_clf)"
   ]
  },
  {
   "cell_type": "code",
   "execution_count": 73,
   "metadata": {
    "scrolled": true
   },
   "outputs": [
    {
     "name": "stdout",
     "output_type": "stream",
     "text": [
      "Fitting 5 folds for each of 12 candidates, totalling 60 fits\n"
     ]
    },
    {
     "name": "stderr",
     "output_type": "stream",
     "text": [
      "[Parallel(n_jobs=-1)]: Using backend LokyBackend with 8 concurrent workers.\n",
      "[Parallel(n_jobs=-1)]: Done  34 tasks      | elapsed: 10.3min\n",
      "[Parallel(n_jobs=-1)]: Done  60 out of  60 | elapsed: 16.9min finished\n"
     ]
    },
    {
     "name": "stdout",
     "output_type": "stream",
     "text": [
      "Best Score: 0.4713493530499076\n",
      "Best Parameters: {'loss': 'deviance', 'max_depth': 2, 'max_features': 'auto', 'n_estimators': 50}\n"
     ]
    }
   ],
   "source": [
    "grid_clf.fit(X_train_bow_lsa, Y_train_bow)\n",
    "\n",
    "print('Best Score on Bag of Words:', grid_clf.best_score_)\n",
    "best_params_clf = grid_clf.best_params_\n",
    "print('Best Parameters:', best_params_clf)"
   ]
  },
  {
   "cell_type": "code",
   "execution_count": 143,
   "metadata": {
    "scrolled": true
   },
   "outputs": [
    {
     "name": "stdout",
     "output_type": "stream",
     "text": [
      "              precision    recall  f1-score   support\n",
      "\n",
      "     Chomsky       0.65      0.92      0.76        12\n",
      "   Descartes       0.46      0.50      0.48        12\n",
      "       Freud       0.00      0.00      0.00        10\n",
      "        Hume       0.67      0.40      0.50        15\n",
      "        Kant       0.55      0.20      0.29        30\n",
      "       Locke       0.00      0.00      0.00         9\n",
      "   Nietzsche       0.67      0.79      0.72        56\n",
      "       Plato       0.00      0.00      0.00        16\n",
      "     Russell       0.20      0.17      0.18        12\n",
      "    Socrates       0.17      1.00      0.30         9\n",
      "\n",
      "    accuracy                           0.46       181\n",
      "   macro avg       0.34      0.40      0.32       181\n",
      "weighted avg       0.45      0.46      0.42       181\n",
      "\n"
     ]
    }
   ],
   "source": [
    "from sklearn.metrics import classification_report\n",
    "\n",
    "clf2 = GradientBoostingClassifier(loss = 'deviance', max_depth = 2, \n",
    "                                 max_features = 'auto', n_estimators = 50)\n",
    "\n",
    "clf2.fit(X_train_bow_lsa, Y_train_bow)\n",
    "\n",
    "# Classify, storing the result in a new variable.\n",
    "clf2_pred2 = clf2.predict(X_test_bow_lsa)\n",
    "\n",
    "# Create a classification report.\n",
    "print(classification_report(Y_test_bow, clf2_pred2))"
   ]
  },
  {
   "cell_type": "markdown",
   "metadata": {},
   "source": [
    "- Tuning the Gradient Boost hyperparameters improved the recall average by 2 percentage points, however the model still did not reach the recall precision level of the Logistic Regression method."
   ]
  },
  {
   "cell_type": "markdown",
   "metadata": {},
   "source": [
    "# Conclusions\n",
    "Unsupervised Natural Language Processing on this particular set of quote data did not return satisfactory results. Throughout the clustering mehtods, persons of interest did not seem to have a consistent classification profile. The supervised clssification models returned more encouraging results, however recall scores only reached a maximum value of .55 throught the Logisitc Regression method on the Tf-idf data.\n",
    "\n",
    "Further invesigation of this dataset would seek to include and process much more raw data from the persons of interest. However in cluster analysis, multiple instances of specific words were partitioned in multiple clusters. We would conclude that there was not enough specificity with respect to a person's text and  clustering by tf-idf or bag of words feature generation is not sufficient means to create consistent classification in this case and other feature generation/selection methods will be required. Sentiment characterization based on the quote topic would provide an interesting insight towards classification.\n",
    "\n",
    "In summary, unsupervised models are adept at searching out unseen patterns in data, while regression models offer direct observations based on the existing data structure. In this case, I feel the regression models outperform the clusting methods. However, I would be inclined to change that desicion if this dataset was not already labled.  "
   ]
  },
  {
   "cell_type": "code",
   "execution_count": null,
   "metadata": {},
   "outputs": [],
   "source": []
  }
 ],
 "metadata": {
  "kernelspec": {
   "display_name": "Python 3",
   "language": "python",
   "name": "python3"
  },
  "language_info": {
   "codemirror_mode": {
    "name": "ipython",
    "version": 3
   },
   "file_extension": ".py",
   "mimetype": "text/x-python",
   "name": "python",
   "nbconvert_exporter": "python",
   "pygments_lexer": "ipython3",
   "version": "3.7.1"
  }
 },
 "nbformat": 4,
 "nbformat_minor": 2
}
